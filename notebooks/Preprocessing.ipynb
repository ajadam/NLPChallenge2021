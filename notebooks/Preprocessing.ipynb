{
 "cells": [
  {
   "cell_type": "markdown",
   "metadata": {},
   "source": [
    "# Pré-traitement pour l'entraînement"
   ]
  },
  {
   "cell_type": "code",
   "execution_count": 1,
   "metadata": {},
   "outputs": [],
   "source": [
    "import numpy as np\n",
    "import pandas as pd\n",
    "\n",
    "from utils.preprocessing.label import TopicLDA\n",
    "from utils.preprocessing.augmentation import (\n",
    "    BeyondBackTranslator, GenderSwap)"
   ]
  },
  {
   "cell_type": "markdown",
   "metadata": {},
   "source": [
    "Chargement des données"
   ]
  },
  {
   "cell_type": "code",
   "execution_count": 2,
   "metadata": {},
   "outputs": [],
   "source": [
    "data_path = \"../data/\"\n",
    "with open(data_path + 'categories_string.csv') as f:\n",
    "    categories = dict(map(lambda x:x.strip('\\n').split(',')[::-1], f.readlines()[1:]))\n",
    "    \n",
    "X = pd.read_json(data_path + 'train.json').set_index('Id')\n",
    "y = pd.read_csv(data_path + 'train_label.csv', index_col='Id', dtype={'Category': 'category'}).Category"
   ]
  },
  {
   "cell_type": "markdown",
   "metadata": {},
   "source": [
    "## Topic LDA\n",
    "Nettoyage des labels.  \n",
    "Pour rappel, le nettoyage a été effectué pour le label \"architect\" qui comporte à la fois des données pour les architectes de constructions proches du label \"interior designer\" et les architect informatiques proches du label \"software engineer\".\n",
    "\n",
    "La classe `TopicLDA` que nous avons implémenté possède les paramètres optimales pour le label \"architect\" par défaut. Nous avons choisi de ne pas étendre le nettoyage des labels sur l'ensemble des données puisque l'opération d'optimisation des paramètres est coûteuse en temps et surtout parce que nous n'avons pas observé d'ambiguités dans les autres labels."
   ]
  },
  {
   "cell_type": "code",
   "execution_count": 3,
   "metadata": {},
   "outputs": [
    {
     "data": {
      "text/plain": [
       "'architect'"
      ]
     },
     "execution_count": 3,
     "metadata": {},
     "output_type": "execute_result"
    }
   ],
   "source": [
    "X_arch = X[y == '24']\n",
    "categories['24']"
   ]
  },
  {
   "cell_type": "markdown",
   "metadata": {},
   "source": [
    "Clusterisation des descriptions en 2 groupes *(paramètre optimal pour 'architect')*"
   ]
  },
  {
   "cell_type": "code",
   "execution_count": 4,
   "metadata": {},
   "outputs": [
    {
     "data": {
      "text/plain": [
       "array([[0.35061345, 0.6493866 ],\n",
       "       [0.96516657, 0.03483342],\n",
       "       [0.85230094, 0.14769909],\n",
       "       ...,\n",
       "       [0.07843395, 0.921566  ],\n",
       "       [0.03581987, 0.9641802 ],\n",
       "       [0.9616145 , 0.03838551]], dtype=float32)"
      ]
     },
     "execution_count": 4,
     "metadata": {},
     "output_type": "execute_result"
    }
   ],
   "source": [
    "clust = TopicLDA(2)\n",
    "logits_arch = clust.fit_predict(X_arch.description)\n",
    "logits_arch"
   ]
  },
  {
   "cell_type": "markdown",
   "metadata": {},
   "source": [
    "Le label '24' sera gardé pour le cluster 0 et le label '29' sera créé pour le cluster 1.  \n",
    "Lors de la classification, une couche `Lambda` re-calibrera les prédictions en additionnant les logits de ceux deux labels."
   ]
  },
  {
   "cell_type": "code",
   "execution_count": 5,
   "metadata": {},
   "outputs": [],
   "source": [
    "y_arch = np.vectorize({0:'24',1:'29'}.get)(np.argmax(logits_arch, axis = 1))\n",
    "y_new = y.cat.add_categories('29')\n",
    "y_new[y_new == '24'] = y_arch"
   ]
  },
  {
   "cell_type": "markdown",
   "metadata": {},
   "source": [
    "Exemple"
   ]
  },
  {
   "cell_type": "code",
   "execution_count": 6,
   "metadata": {},
   "outputs": [
    {
     "data": {
      "text/plain": [
       "{'29': \" He holds a Master of Science degree in Computer Science from California State University, San Bernardino. His focus was on online banking applications. He also has a bachelor's degree from Wuhan University, China. Xinsheng was a QA engineer at VMware, Inc. He later led a team in developing four educational computer games for the Escambia County School District, Florida. He has worked on Geographical Information Systems (GIS). Xinsheng has rich experience in J2EE technologies. He has extensive experience in content management systems (CMS) including Alfreso. He is an expert in Web Portal technologies. Xinsheng has hands-on experience in eight Liferay Portal projects.\",\n",
       " '24': ' Following studies at Kyoto University Graduate School, Hirata worked for architect Toyo Ito & Associates (1997-2005), before establishing his own studio in 2005.'}"
      ]
     },
     "execution_count": 6,
     "metadata": {},
     "output_type": "execute_result"
    }
   ],
   "source": [
    "dict(zip(y_new[3:5], X_arch.description.to_list()[2:4]))"
   ]
  },
  {
   "cell_type": "markdown",
   "metadata": {},
   "source": [
    "## Beyond Back translation\n",
    "Cette procédure consiste à traduire le texte dans une langue et la re-traduire dans sa langue d'origine.  \n",
    "Le but est de créer des nuances de mots dans les phrases en profitant des différences d'expressions entre les langues.\n",
    "\n",
    "Dans cet exemple, nous utiliserons le français comme langue intermédiaire."
   ]
  },
  {
   "cell_type": "code",
   "execution_count": 7,
   "metadata": {},
   "outputs": [],
   "source": [
    "bbt = BeyondBackTranslator(\"en\", \"fr\")"
   ]
  },
  {
   "cell_type": "markdown",
   "metadata": {},
   "source": [
    "La méthode `.compute` permet de connaître la classe sous-représentée pour chaque label et renvoie les statistiques associées.  \n",
    "Les 5 premiers éléments de sortie."
   ]
  },
  {
   "cell_type": "code",
   "execution_count": 8,
   "metadata": {},
   "outputs": [
    {
     "data": {
      "text/plain": [
       "[{'Category': '0', 0: 360, 1: 1137, 'low': 'F'},\n",
       " {'Category': '1', 0: 3398, 1: 717, 'low': 'M'},\n",
       " {'Category': '10', 0: 125, 1: 706, 'low': 'F'},\n",
       " {'Category': '11', 0: 4581, 1: 7026, 'low': 'F'},\n",
       " {'Category': '12', 0: 345, 1: 1294, 'low': 'F'}]"
      ]
     },
     "execution_count": 8,
     "metadata": {},
     "output_type": "execute_result"
    }
   ],
   "source": [
    "stats = bbt.compute(X.description, X.gender, y)\n",
    "stats[:5]"
   ]
  },
  {
   "cell_type": "markdown",
   "metadata": {},
   "source": [
    "La méthode `.oversampling` choisi aléatoirement les données pour le sur-échantillonnage en suivant la règle suivante pour chaque label de manière générale:\n",
    "\n",
    "- La moitié des données de la classe sous-représentée\n",
    "- Le quart des données de la classe dominante à inverser\n",
    "\n",
    "Cette règle change si le sur-échantillonnage recrée crée le déséquilibrement de labels presque équilibrés."
   ]
  },
  {
   "cell_type": "code",
   "execution_count": 9,
   "metadata": {},
   "outputs": [
    {
     "name": "stdout",
     "output_type": "stream",
     "text": [
      "sampling Category 28/28\r"
     ]
    },
    {
     "data": {
      "text/plain": [
       "'62,589 données sélectionnées pour la BBT'"
      ]
     },
     "execution_count": 9,
     "metadata": {},
     "output_type": "execute_result"
    }
   ],
   "source": [
    "bbt.oversampling(X.description, X.gender, y)\n",
    "f\"{bbt.oversampled.shape[0]:,} données sélectionnées pour la BBT\""
   ]
  },
  {
   "cell_type": "markdown",
   "metadata": {},
   "source": [
    "La méthode `.generate` est la fonction à utiliser.  \n",
    "Elle effectue les 2 tâches précédentes et effectue la traduction.\n",
    "\n",
    "Exemple:\n",
    "> Ne pas lancer le code suivant, couteux en temps"
   ]
  },
  {
   "cell_type": "code",
   "execution_count": 10,
   "metadata": {},
   "outputs": [
    {
     "name": "stdout",
     "output_type": "stream",
     "text": [
      "Jane is the pastor's wife and she gets up every morning to light the candles in the church\n",
      "Jane is the priest's spouse and she wakes up every morning to light the candles of the chapel\n"
     ]
    }
   ],
   "source": [
    "bbt.generate(\n",
    "    X.description, X.gender, y,\n",
    "    swap = True\n",
    ")"
   ]
  },
  {
   "cell_type": "markdown",
   "metadata": {},
   "source": [
    "## Gender Swap\n",
    "Le `Gender Swap` consiste à intervertir le genre des mots présents dans la phrase s'il existe et si la similarité cosinus de l'inverse est supérieur au seuil.  \n",
    "Les données à inverser provenant de la Beyond Back Translation doivent passer par le Gender Swapping.\n",
    "\n",
    "Pour la démonstration, nous utilisons le modèle `word2vec-google-news-300`.\n",
    "> Ne pas lancer le code suivant, couteux en temps"
   ]
  },
  {
   "cell_type": "code",
   "execution_count": 11,
   "metadata": {
    "scrolled": false
   },
   "outputs": [],
   "source": [
    "swaper = GenderSwap({'F': 'female', 'M': 'male'}, 'word2vec-google-news-300')"
   ]
  },
  {
   "cell_type": "markdown",
   "metadata": {},
   "source": [
    "La méthode `.sentswap` effectue l'interversion"
   ]
  },
  {
   "cell_type": "code",
   "execution_count": 12,
   "metadata": {},
   "outputs": [
    {
     "data": {
      "text/plain": [
       "\"Sally is the priest 's husband and he wakes up every afternoon to light the candle of the chapel\""
      ]
     },
     "execution_count": 12,
     "metadata": {},
     "output_type": "execute_result"
    }
   ],
   "source": [
    "swaper.sentswap(\n",
    "    sentence = \"Jane is the priest's spouse and she wakes up every morning to light the candles of the chapel\",\n",
    "    source = \"female\", target = \"male\", thres = .65\n",
    ")"
   ]
  },
  {
   "cell_type": "markdown",
   "metadata": {},
   "source": [
    "Comme `BeyondBackTranslator`, la méthode `.generate` de `GenderSwap` gère le swapping pour les données qui sortent de la BBT"
   ]
  },
  {
   "cell_type": "code",
   "execution_count": 13,
   "metadata": {},
   "outputs": [],
   "source": [
    "swaper.generate(\n",
    "    X.description, X.gender,\n",
    "    thres = .65\n",
    ")"
   ]
  },
  {
   "cell_type": "markdown",
   "metadata": {},
   "source": [
    "# Resultats\n",
    "Pendant l'entraînement, après avoir divisé nos données en 3 échantillons (`train`, `validation`, `test`) nous effectuons l'augmentation sur l'échantillon `train`."
   ]
  }
 ],
 "metadata": {
  "kernelspec": {
   "display_name": "Python 3",
   "language": "python",
   "name": "python3"
  },
  "language_info": {
   "codemirror_mode": {
    "name": "ipython",
    "version": 3
   },
   "file_extension": ".py",
   "mimetype": "text/x-python",
   "name": "python",
   "nbconvert_exporter": "python",
   "pygments_lexer": "ipython3",
   "version": "3.7.9"
  },
  "latex_envs": {
   "LaTeX_envs_menu_present": true,
   "autoclose": false,
   "autocomplete": true,
   "bibliofile": "biblio.bib",
   "cite_by": "apalike",
   "current_citInitial": 1,
   "eqLabelWithNumbers": true,
   "eqNumInitial": 1,
   "hotkeys": {
    "equation": "Ctrl-E",
    "itemize": "Ctrl-I"
   },
   "labels_anchors": false,
   "latex_user_defs": false,
   "report_style_numbering": false,
   "user_envs_cfg": false
  }
 },
 "nbformat": 4,
 "nbformat_minor": 4
}
