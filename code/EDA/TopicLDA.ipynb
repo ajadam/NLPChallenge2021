{
 "cells": [
  {
   "cell_type": "markdown",
   "metadata": {},
   "source": [
    "# TopicLDA usecase"
   ]
  },
  {
   "cell_type": "code",
   "execution_count": 1,
   "metadata": {},
   "outputs": [],
   "source": [
    "import sys\n",
    "sys.path.append(\"../\")\n",
    "\n",
    "import numpy as np\n",
    "import pandas as pd\n",
    "from utils import TopicLDA"
   ]
  },
  {
   "cell_type": "markdown",
   "metadata": {},
   "source": [
    "## Data"
   ]
  },
  {
   "cell_type": "code",
   "execution_count": 2,
   "metadata": {},
   "outputs": [],
   "source": [
    "data_path = '../../data/'\n",
    "with open(data_path + 'categories_string.csv') as f:\n",
    "    categories = dict(map(lambda x:x.strip('\\n').split(',')[::-1], f.readlines()[1:]))\n",
    "    \n",
    "X = pd.read_json(data_path + 'train.json').set_index('Id')\n",
    "y = pd.read_csv(data_path + 'train_label.csv', index_col='Id', dtype={'Category': 'category'}).Category"
   ]
  },
  {
   "cell_type": "markdown",
   "metadata": {},
   "source": [
    "Label of interest and examples of unclear description"
   ]
  },
  {
   "cell_type": "code",
   "execution_count": 3,
   "metadata": {},
   "outputs": [
    {
     "data": {
      "text/plain": [
       "'architect'"
      ]
     },
     "execution_count": 3,
     "metadata": {},
     "output_type": "execute_result"
    }
   ],
   "source": [
    "categories['24']"
   ]
  },
  {
   "cell_type": "code",
   "execution_count": 4,
   "metadata": {},
   "outputs": [
    {
     "data": {
      "text/plain": [
       "[' He runs a boutique design studio attending clients in the United States, Europe and Asia. His work explores the convergence of human arts and science to give shape to an ever evolving design practice. With a particular commitment towards design education, Arturo is permanently engaged with the international design and development communities and often travels the world to exchange ideas about design with other designers and developers. Prior to his current venture, Arturo worked for Microsoft in Redmond for 7 years driving design evangelism.',\n",
       " ' He focuses on cloud security, identity and access management, mobility security, and security for Microsoft platforms and solutions. Jan is based in Belgium.']"
      ]
     },
     "execution_count": 4,
     "metadata": {},
     "output_type": "execute_result"
    }
   ],
   "source": [
    "X_arch = X[y == '24']\n",
    "X_arch.description.to_list()[:2]"
   ]
  },
  {
   "cell_type": "markdown",
   "metadata": {},
   "source": [
    "## Processing\n",
    "The `TopicLDA` class take the number of cluster to build.  \n",
    "It has been made to follow a bit the grammar of the sklearn models (with `.fit`, `.predict` and `.fit_predict` methods).  \n",
    "`.model` gives access to lda model, `.dictionary` point to vocabularies"
   ]
  },
  {
   "cell_type": "code",
   "execution_count": 5,
   "metadata": {},
   "outputs": [
    {
     "data": {
      "text/plain": [
       "array([[0.69572955, 0.3042705 ],\n",
       "       [0.03479052, 0.9652095 ],\n",
       "       [0.12912217, 0.8708778 ],\n",
       "       ...,\n",
       "       [0.91574144, 0.08425859],\n",
       "       [0.9634624 , 0.03653761],\n",
       "       [0.03820208, 0.96179795]], dtype=float32)"
      ]
     },
     "execution_count": 5,
     "metadata": {},
     "output_type": "execute_result"
    }
   ],
   "source": [
    "clust = TopicLDA(2)\n",
    "logits_arch = clust.fit_predict(X_arch.description)\n",
    "logits_arch"
   ]
  },
  {
   "cell_type": "code",
   "execution_count": 6,
   "metadata": {},
   "outputs": [
    {
     "data": {
      "text/plain": [
       "[(0, '0.019*\"architecture\" + 0.019*\"design\" + 0.012*\"university\" + 0.009*\"projects\" + 0.008*\"architectural\" + 0.006*\"new\" + 0.006*\"work\" + 0.005*\"architects\" + 0.005*\"also\" + 0.005*\"project\"'), (1, '0.010*\"years\" + 0.008*\"experience\" + 0.007*\"software\" + 0.007*\"development\" + 0.006*\"systems\" + 0.006*\"solutions\" + 0.005*\"management\" + 0.005*\"data\" + 0.005*\"worked\" + 0.005*\"business\"')]"
      ]
     },
     "execution_count": 6,
     "metadata": {},
     "output_type": "execute_result"
    }
   ],
   "source": [
    "clust"
   ]
  },
  {
   "cell_type": "markdown",
   "metadata": {},
   "source": [
    "In the following, the label '24' will be kept for cluster 0 and the label '29' will be created for cluster 1.  \n",
    "During the classification, a Lambda layer will aggregate the logits from '24' and '29' to '24'. "
   ]
  },
  {
   "cell_type": "code",
   "execution_count": 7,
   "metadata": {},
   "outputs": [
    {
     "data": {
      "text/plain": [
       "array(['24', '29', '29', ..., '24', '24', '29'], dtype='<U2')"
      ]
     },
     "execution_count": 7,
     "metadata": {},
     "output_type": "execute_result"
    }
   ],
   "source": [
    "y_arch = np.vectorize({0:'24',1:'29'}.get)(np.argmax(logits_arch, axis = 1))\n",
    "y_arch"
   ]
  },
  {
   "cell_type": "code",
   "execution_count": 8,
   "metadata": {},
   "outputs": [
    {
     "data": {
      "text/plain": [
       "{'24': ' He runs a boutique design studio attending clients in the United States, Europe and Asia. His work explores the convergence of human arts and science to give shape to an ever evolving design practice. With a particular commitment towards design education, Arturo is permanently engaged with the international design and development communities and often travels the world to exchange ideas about design with other designers and developers. Prior to his current venture, Arturo worked for Microsoft in Redmond for 7 years driving design evangelism.',\n",
       " '29': ' He focuses on cloud security, identity and access management, mobility security, and security for Microsoft platforms and solutions. Jan is based in Belgium.'}"
      ]
     },
     "execution_count": 8,
     "metadata": {},
     "output_type": "execute_result"
    }
   ],
   "source": [
    "y_new = y.cat.add_categories('29')\n",
    "y_new[y_new == '24'] = y_arch\n",
    "dict(zip(y_new[3:5], X_arch.description.to_list()[:2]))"
   ]
  }
 ],
 "metadata": {
  "kernelspec": {
   "display_name": "Python 3",
   "language": "python",
   "name": "python3"
  },
  "language_info": {
   "codemirror_mode": {
    "name": "ipython",
    "version": 3
   },
   "file_extension": ".py",
   "mimetype": "text/x-python",
   "name": "python",
   "nbconvert_exporter": "python",
   "pygments_lexer": "ipython3",
   "version": "3.7.9"
  },
  "latex_envs": {
   "LaTeX_envs_menu_present": true,
   "autoclose": false,
   "autocomplete": true,
   "bibliofile": "biblio.bib",
   "cite_by": "apalike",
   "current_citInitial": 1,
   "eqLabelWithNumbers": true,
   "eqNumInitial": 1,
   "hotkeys": {
    "equation": "Ctrl-E",
    "itemize": "Ctrl-I"
   },
   "labels_anchors": false,
   "latex_user_defs": false,
   "report_style_numbering": false,
   "user_envs_cfg": false
  }
 },
 "nbformat": 4,
 "nbformat_minor": 4
}
