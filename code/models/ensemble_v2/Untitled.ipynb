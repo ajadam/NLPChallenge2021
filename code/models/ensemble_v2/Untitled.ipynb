{
 "cells": [
  {
   "cell_type": "code",
   "execution_count": 1,
   "metadata": {},
   "outputs": [],
   "source": [
    "import numpy as np\n",
    "import pandas as pd\n",
    "from sklearn.model_selection import train_test_split\n",
    "from sklearn.metrics import classification_report"
   ]
  },
  {
   "cell_type": "code",
   "execution_count": 7,
   "metadata": {},
   "outputs": [],
   "source": [
    "prob1 = np.load('/Users/antoineadam/git/NLPChallenge2021/code/models/ensemble_v1/roberta-large-sub-011.npy')\n",
    "prob2 = np.load('/Users/antoineadam/git/NLPChallenge2021/code/models/ensemble_v1/roberta-large-sub-062.npy')\n",
    "prob3 = np.load('/Users/antoineadam/git/NLPChallenge2021/code/models/ensemble_v1/roberta-large-sub-103.npy')\n",
    "prob4 = np.load('/Users/antoineadam/git/NLPChallenge2021/code/models/ensemble_v1/roberta-large-sub-114.npy')\n",
    "prob5 = np.load('/Users/antoineadam/git/NLPChallenge2021/code/models/ensemble_v1/roberta-large-sub-125.npy')\n",
    "prob6 = np.load('/Users/antoineadam/git/NLPChallenge2021/code/models/ensemble_v2/roberta-large-sub-136.npy')\n",
    "prob7 = np.load('/Users/antoineadam/git/NLPChallenge2021/code/models/ensemble_v2/roberta-large-sub-1.npy')\n",
    "prob8 = np.load('/Users/antoineadam/git/NLPChallenge2021/code/models/ensemble_v2/roberta-large-sub-2.npy')\n",
    "prob9 = np.load('/Users/antoineadam/git/NLPChallenge2021/code/models/ensemble_v2/roberta-large-sub-3.npy')\n",
    "prob10 = np.load('/Users/antoineadam/git/NLPChallenge2021/code/models/ensemble_v2/roberta-large-sub-4.npy')\n",
    "prob11 = np.load('/Users/antoineadam/git/NLPChallenge2021/code/models/ensemble_v2/roberta-large-sub-5.npy')\n",
    "prob12 = np.load('/Users/antoineadam/git/NLPChallenge2021/code/models/ensemble_v2/roberta-large-sub-6.npy')\n",
    "prob13 = np.load('/Users/antoineadam/git/NLPChallenge2021/code/models/ensemble_v2/roberta-large-sub-7.npy')\n",
    "prob14 = np.load('/Users/antoineadam/git/NLPChallenge2021/code/models/ensemble_v2/roberta-large-sub-8.npy')\n",
    "prob15 = np.load('/Users/antoineadam/git/NLPChallenge2021/code/models/ensemble_v2/roberta-large-sub-9.npy')"
   ]
  },
  {
   "cell_type": "code",
   "execution_count": 17,
   "metadata": {},
   "outputs": [
    {
     "data": {
      "text/plain": [
       "array([[1.7151212e-04, 1.0442740e-03, 1.6991294e-04, ..., 3.0147674e-04,\n",
       "        6.2946673e-03, 6.8231084e-04],\n",
       "       [2.6240524e-02, 1.4378977e-01, 1.5493348e-03, ..., 4.5167780e-03,\n",
       "        1.1904891e-02, 1.7357919e-03],\n",
       "       [1.3452563e-01, 2.7306560e-01, 5.2648745e-02, ..., 1.5583220e+00,\n",
       "        7.8998220e-01, 8.0708906e-02],\n",
       "       ...,\n",
       "       [1.3168080e-02, 8.5779198e-04, 4.7379101e-04, ..., 1.5987986e-01,\n",
       "        1.8468647e-03, 2.7795375e-04],\n",
       "       [9.6063118e-04, 4.4240234e-03, 1.1781642e-04, ..., 1.5476291e-04,\n",
       "        4.4889927e+01, 1.9104606e-04],\n",
       "       [1.5766574e-02, 2.5108166e-02, 1.9746255e-03, ..., 4.2611003e-01,\n",
       "        2.0527953e-02, 9.5791003e-04]], dtype=float32)"
      ]
     },
     "execution_count": 17,
     "metadata": {},
     "output_type": "execute_result"
    }
   ],
   "source": [
    "probs = prob1 + prob2 + prob3 + prob4 + prob5 + prob6 + prob8 + prob9 + prob10 + prob11 + prob12 + prob13 + prob14 + prob15\n",
    "probs"
   ]
  },
  {
   "cell_type": "code",
   "execution_count": 9,
   "metadata": {},
   "outputs": [],
   "source": [
    "PATH = '/Users/antoineadam/git/NLPChallenge2021/data/'\n",
    "#\n",
    "#df = pd.read_json(PATH+'train.json').set_index('Id').loc[:, 'description']\n",
    "#labels = pd.read_csv(PATH+'train_label.csv', index_col=0).loc[:, 'Category'].astype('category').cat.codes\n",
    "#\n",
    "#data_text, data_label = df.tolist(), labels.tolist()\n",
    "#trainval_texts, test_texts, trainval_labels, test_labels = train_test_split(data_text, data_label, \n",
    "#                                                                            test_size=.2, \n",
    "#                                                                            stratify=data_label, \n",
    "#                                                                            random_state=42069)\n",
    "#train_texts, val_texts, train_labels, val_labels = train_test_split(trainval_texts, trainval_labels, \n",
    "#                                                                    test_size=.1, \n",
    "#                                                                    stratify=trainval_labels, \n",
    "#                                                                    random_state=42)\n",
    "\n"
   ]
  },
  {
   "cell_type": "code",
   "execution_count": 18,
   "metadata": {
    "scrolled": true
   },
   "outputs": [],
   "source": [
    "y_pred = np.argmax(probs, axis=1)\n",
    "\n",
    "# print(classification_report(test_labels, y_pred, digits=4))"
   ]
  },
  {
   "cell_type": "code",
   "execution_count": 19,
   "metadata": {
    "scrolled": true
   },
   "outputs": [
    {
     "data": {
      "text/html": [
       "<div>\n",
       "<style scoped>\n",
       "    .dataframe tbody tr th:only-of-type {\n",
       "        vertical-align: middle;\n",
       "    }\n",
       "\n",
       "    .dataframe tbody tr th {\n",
       "        vertical-align: top;\n",
       "    }\n",
       "\n",
       "    .dataframe thead th {\n",
       "        text-align: right;\n",
       "    }\n",
       "</style>\n",
       "<table border=\"1\" class=\"dataframe\">\n",
       "  <thead>\n",
       "    <tr style=\"text-align: right;\">\n",
       "      <th></th>\n",
       "      <th>Id</th>\n",
       "      <th>Category</th>\n",
       "    </tr>\n",
       "  </thead>\n",
       "  <tbody>\n",
       "    <tr>\n",
       "      <th>0</th>\n",
       "      <td>0</td>\n",
       "      <td>6</td>\n",
       "    </tr>\n",
       "    <tr>\n",
       "      <th>1</th>\n",
       "      <td>1</td>\n",
       "      <td>20</td>\n",
       "    </tr>\n",
       "    <tr>\n",
       "      <th>2</th>\n",
       "      <td>2</td>\n",
       "      <td>19</td>\n",
       "    </tr>\n",
       "    <tr>\n",
       "      <th>3</th>\n",
       "      <td>3</td>\n",
       "      <td>19</td>\n",
       "    </tr>\n",
       "    <tr>\n",
       "      <th>4</th>\n",
       "      <td>4</td>\n",
       "      <td>19</td>\n",
       "    </tr>\n",
       "    <tr>\n",
       "      <th>...</th>\n",
       "      <td>...</td>\n",
       "      <td>...</td>\n",
       "    </tr>\n",
       "    <tr>\n",
       "      <th>54295</th>\n",
       "      <td>54295</td>\n",
       "      <td>19</td>\n",
       "    </tr>\n",
       "    <tr>\n",
       "      <th>54296</th>\n",
       "      <td>54296</td>\n",
       "      <td>12</td>\n",
       "    </tr>\n",
       "    <tr>\n",
       "      <th>54297</th>\n",
       "      <td>54297</td>\n",
       "      <td>19</td>\n",
       "    </tr>\n",
       "    <tr>\n",
       "      <th>54298</th>\n",
       "      <td>54298</td>\n",
       "      <td>26</td>\n",
       "    </tr>\n",
       "    <tr>\n",
       "      <th>54299</th>\n",
       "      <td>54299</td>\n",
       "      <td>15</td>\n",
       "    </tr>\n",
       "  </tbody>\n",
       "</table>\n",
       "<p>54300 rows × 2 columns</p>\n",
       "</div>"
      ],
      "text/plain": [
       "          Id  Category\n",
       "0          0         6\n",
       "1          1        20\n",
       "2          2        19\n",
       "3          3        19\n",
       "4          4        19\n",
       "...      ...       ...\n",
       "54295  54295        19\n",
       "54296  54296        12\n",
       "54297  54297        19\n",
       "54298  54298        26\n",
       "54299  54299        15\n",
       "\n",
       "[54300 rows x 2 columns]"
      ]
     },
     "execution_count": 19,
     "metadata": {},
     "output_type": "execute_result"
    }
   ],
   "source": [
    "submission = pd.read_csv(PATH+'template_submissions.csv')\n",
    "submission.Category = y_pred\n",
    "submission"
   ]
  },
  {
   "cell_type": "code",
   "execution_count": 15,
   "metadata": {},
   "outputs": [],
   "source": [
    "submission.to_csv('ensemble_v2.csv', index=False)"
   ]
  },
  {
   "cell_type": "code",
   "execution_count": 27,
   "metadata": {},
   "outputs": [],
   "source": [
    "#test_texts = pd.read_json(PATH+'test.json').set_index('Id').loc[:, 'description'].tolist()"
   ]
  },
  {
   "cell_type": "code",
   "execution_count": 35,
   "metadata": {
    "scrolled": true
   },
   "outputs": [
    {
     "data": {
      "text/plain": [
       "' Formerly, she was the Coordinator for Music Education at the University of Wisconsin Stevens Point, a high-school vocal music director, elementary music specialist, a musical theatre director, organist, and pastoral musician. She holds a bachelor’s degree in Music Education from the University of Louisville, a master’s degree in Music from Colorado State University, and a Ph.D. in Music from the University of Iowa. In her spare time, Catherine enjoys distance running, writing and composing.'"
      ]
     },
     "execution_count": 35,
     "metadata": {},
     "output_type": "execute_result"
    }
   ],
   "source": [
    "#test_texts[54296]"
   ]
  }
 ],
 "metadata": {
  "kernelspec": {
   "display_name": "ml",
   "language": "python",
   "name": "ml"
  },
  "language_info": {
   "codemirror_mode": {
    "name": "ipython",
    "version": 3
   },
   "file_extension": ".py",
   "mimetype": "text/x-python",
   "name": "python",
   "nbconvert_exporter": "python",
   "pygments_lexer": "ipython3",
   "version": "3.9.0"
  }
 },
 "nbformat": 4,
 "nbformat_minor": 4
}
