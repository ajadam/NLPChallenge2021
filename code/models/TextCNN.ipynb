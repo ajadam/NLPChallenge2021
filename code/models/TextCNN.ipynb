{
 "cells": [
  {
   "cell_type": "markdown",
   "metadata": {},
   "source": [
    "LSTM TextCNN\n",
    "--"
   ]
  },
  {
   "cell_type": "code",
   "execution_count": 1,
   "metadata": {},
   "outputs": [],
   "source": [
    "import sys\n",
    "sys.path.append(\"../\")\n",
    "\n",
    "import tensorflow as tf\n",
    "import tensorflow.keras as keras\n",
    "from tensorflow.keras import callbacks, backend as K\n",
    "from tensorflow.keras.preprocessing.text import Tokenizer\n",
    "from tensorflow.keras.preprocessing import sequence\n",
    "from tensorflow.keras.models import Sequential\n",
    "from tensorflow.keras.layers import Conv1D, GlobalMaxPooling1D, Embedding, LSTM, Dense, Dropout, Activation, concatenate\n",
    "from sklearn.model_selection import train_test_split\n",
    "from sklearn.preprocessing import LabelBinarizer\n",
    "from sklearn.metrics import classification_report, f1_score\n",
    "\n",
    "import numpy as np\n",
    "import pandas as pd\n",
    "import matplotlib.pyplot as plt\n",
    "\n",
    "from utils import clean_text\n",
    "from utils.metrics import Metrics, Report"
   ]
  },
  {
   "cell_type": "markdown",
   "metadata": {},
   "source": [
    "# Import Data"
   ]
  },
  {
   "cell_type": "code",
   "execution_count": 2,
   "metadata": {},
   "outputs": [],
   "source": [
    "data_path = '../../data/'"
   ]
  },
  {
   "cell_type": "code",
   "execution_count": 3,
   "metadata": {},
   "outputs": [],
   "source": [
    "with open(data_path + 'categories_string.csv') as f:\n",
    "    categories = dict(map(lambda x:x.strip('\\n').split(',')[::-1], f.readlines()[1:]))\n",
    "\n",
    "X = pd.read_json(data_path + 'train.json').set_index('Id')\n",
    "y = pd.read_csv(data_path + 'train_label.csv', index_col='Id', dtype={'Category': 'category'}).Category"
   ]
  },
  {
   "cell_type": "markdown",
   "metadata": {},
   "source": [
    "# Preparing data\n",
    "Words number per X"
   ]
  },
  {
   "cell_type": "code",
   "execution_count": 4,
   "metadata": {},
   "outputs": [
    {
     "data": {
      "text/plain": [
       "<AxesSubplot:>"
      ]
     },
     "execution_count": 4,
     "metadata": {},
     "output_type": "execute_result"
    },
    {
     "data": {
      "image/png": "[encoded data removed]",
      "text/plain": [
       "<Figure size 432x288 with 1 Axes>"
      ]
     },
     "metadata": {
      "needs_background": "light"
     },
     "output_type": "display_data"
    }
   ],
   "source": [
    "X['gender_name'] = X.gender\n",
    "X.gender = X.loc[:, 'gender'].astype('category').cat.codes.rename(\"gender_cat\")\n",
    "X.description = X.description.apply(clean_text)\n",
    "\n",
    "X.description.apply(lambda x:x.split().__len__()).hist()"
   ]
  },
  {
   "cell_type": "markdown",
   "metadata": {},
   "source": [
    "Split to train and test sets"
   ]
  },
  {
   "cell_type": "code",
   "execution_count": 5,
   "metadata": {},
   "outputs": [],
   "source": [
    "X_train, X_test, y_train, y_test = train_test_split(\n",
    "    X, y, test_size = 1/3, random_state=42069)\n",
    "X_train = X_train.reset_index(drop = True)\n",
    "X_test = X_test.reset_index(drop = True)"
   ]
  },
  {
   "cell_type": "markdown",
   "metadata": {},
   "source": [
    "### Global features and hyper params dimension"
   ]
  },
  {
   "cell_type": "code",
   "execution_count": 6,
   "metadata": {},
   "outputs": [],
   "source": [
    "vocab_size = 1000\n",
    "sequences_length = 80\n",
    "embedding_dimensionality = 64\n",
    "max_features = vocab_size\n",
    "input_length = sequences_length + 1\n",
    "\n",
    "num_labels = 28\n",
    "batch_size = 512\n",
    "nb_epoch = 18\n",
    "\n",
    "nof_filters = 200\n",
    "kernel_size = 16\n",
    "\n",
    "hidden_dims = 1024"
   ]
  },
  {
   "cell_type": "markdown",
   "metadata": {},
   "source": [
    "## Processing X\n",
    "Converting description to word sequence.  \n",
    "Adding `gender` categorical feature to `x`."
   ]
  },
  {
   "cell_type": "code",
   "execution_count": 7,
   "metadata": {},
   "outputs": [],
   "source": [
    "tokenizer = Tokenizer(num_words = vocab_size)\n",
    "tokenizer.fit_on_texts(X_train.description)"
   ]
  },
  {
   "cell_type": "code",
   "execution_count": 8,
   "metadata": {},
   "outputs": [],
   "source": [
    "desc_train = tokenizer.texts_to_sequences(X_train.description)\n",
    "desc_test = tokenizer.texts_to_sequences(X_test.description)\n",
    "\n",
    "desc_train = sequence.pad_sequences(desc_train, maxlen = sequences_length, padding = 'post')\n",
    "desc_test = sequence.pad_sequences(desc_test, maxlen = sequences_length, padding = 'post')"
   ]
  },
  {
   "cell_type": "code",
   "execution_count": 9,
   "metadata": {},
   "outputs": [],
   "source": [
    "x_train = concatenate([desc_train, X_train.gender.to_numpy('int32').reshape((-1,1))])\n",
    "x_test = concatenate([desc_test, X_test.gender.to_numpy('int32').reshape((-1,1))])"
   ]
  },
  {
   "cell_type": "markdown",
   "metadata": {},
   "source": [
    "## Processing Y\n",
    "Convert Y to matrix"
   ]
  },
  {
   "cell_type": "code",
   "execution_count": 10,
   "metadata": {},
   "outputs": [],
   "source": [
    "encoder = LabelBinarizer()\n",
    "encoder.fit(y_train)\n",
    "y_train = encoder.transform(y_train)\n",
    "y_test = encoder.transform(y_test)"
   ]
  },
  {
   "cell_type": "markdown",
   "metadata": {},
   "source": [
    "# Model\n",
    "Embedding + LSTM + CNN\n",
    "\n",
    "## Training"
   ]
  },
  {
   "cell_type": "code",
   "execution_count": 11,
   "metadata": {
    "scrolled": true
   },
   "outputs": [
    {
     "name": "stdout",
     "output_type": "stream",
     "text": [
      "Model: \"sequential\"\n",
      "_________________________________________________________________\n",
      "Layer (type)                 Output Shape              Param #   \n",
      "=================================================================\n",
      "embedding (Embedding)        (None, 81, 64)            64000     \n",
      "_________________________________________________________________\n",
      "lstm (LSTM)                  (None, 81, 100)           66000     \n",
      "_________________________________________________________________\n",
      "conv1d (Conv1D)              (None, 66, 200)           320200    \n",
      "_________________________________________________________________\n",
      "global_max_pooling1d (Global (None, 200)               0         \n",
      "_________________________________________________________________\n",
      "dense (Dense)                (None, 1024)              205824    \n",
      "_________________________________________________________________\n",
      "dropout (Dropout)            (None, 1024)              0         \n",
      "_________________________________________________________________\n",
      "activation (Activation)      (None, 1024)              0         \n",
      "_________________________________________________________________\n",
      "dense_1 (Dense)              (None, 28)                28700     \n",
      "_________________________________________________________________\n",
      "activation_1 (Activation)    (None, 28)                0         \n",
      "=================================================================\n",
      "Total params: 684,724\n",
      "Trainable params: 684,724\n",
      "Non-trainable params: 0\n",
      "_________________________________________________________________\n"
     ]
    }
   ],
   "source": [
    "model = Sequential()\n",
    "\n",
    "model.add(Embedding(max_features, embedding_dimensionality, input_length=input_length))\n",
    "model.add(LSTM(100, dropout=0.2, recurrent_dropout=0.2, return_sequences=True))\n",
    "\n",
    "model.add(Conv1D(nof_filters, kernel_size, padding='valid', activation='relu', strides = 1))\n",
    "model.add(GlobalMaxPooling1D())\n",
    "\n",
    "model.add(Dense(hidden_dims))\n",
    "model.add(Dropout(.3))\n",
    "model.add(Activation('relu'))\n",
    "\n",
    "model.add(Dense(num_labels))\n",
    "model.add(Activation('softmax'))\n",
    "\n",
    "model.summary()"
   ]
  },
  {
   "cell_type": "markdown",
   "metadata": {},
   "source": [
    "Compile and fit model.  \n",
    "Accuracy is observed on validation set *(20%)*.\n",
    "F1 score will be observed on the test set."
   ]
  },
  {
   "cell_type": "code",
   "execution_count": 12,
   "metadata": {},
   "outputs": [
    {
     "name": "stdout",
     "output_type": "stream",
     "text": [
      "Train on 115838 samples, validate on 28960 samples\n",
      "Epoch 1/18\n",
      "115838/115838 [==============================] - 52s 452us/sample - loss: 1.6374 - acc: 0.5389 - val_loss: 1.0583 - val_acc: 0.6958\n",
      "Epoch 2/18\n",
      "115838/115838 [==============================] - 47s 406us/sample - loss: 0.9796 - acc: 0.7170 - val_loss: 0.8814 - val_acc: 0.7438ss: 0.9818 - acc: 0.71 - ETA: 0s - loss: 0.9810 - acc: 0.\n",
      "Epoch 3/18\n",
      "115838/115838 [==============================] - 47s 408us/sample - loss: 0.8672 - acc: 0.7452 - val_loss: 0.8211 - val_acc: 0.7603\n",
      "Epoch 4/18\n",
      "115838/115838 [==============================] - 47s 407us/sample - loss: 0.8170 - acc: 0.7587 - val_loss: 0.8033 - val_acc: 0.7612\n",
      "Epoch 5/18\n",
      "115838/115838 [==============================] - 47s 406us/sample - loss: 0.7753 - acc: 0.7678 - val_loss: 0.7687 - val_acc: 0.7719\n",
      "Epoch 6/18\n",
      "115838/115838 [==============================] - 48s 410us/sample - loss: 0.7431 - acc: 0.7758 - val_loss: 0.7623 - val_acc: 0.7732\n",
      "Epoch 7/18\n",
      "115838/115838 [==============================] - 49s 419us/sample - loss: 0.7197 - acc: 0.7810 - val_loss: 0.7497 - val_acc: 0.7761\n",
      "Epoch 8/18\n",
      "115838/115838 [==============================] - 48s 412us/sample - loss: 0.6976 - acc: 0.7871 - val_loss: 0.7433 - val_acc: 0.7776s - loss: 0.6964 - acc: 0.78 - ETA: 3s - loss: 0.6\n",
      "Epoch 9/18\n",
      "115838/115838 [==============================] - 49s 427us/sample - loss: 0.6769 - acc: 0.7938 - val_loss: 0.7533 - val_acc: 0.7764- acc: 0.\n",
      "Epoch 10/18\n",
      "115838/115838 [==============================] - 50s 433us/sample - loss: 0.6563 - acc: 0.7981 - val_loss: 0.7488 - val_acc: 0.7800\n",
      "Epoch 11/18\n",
      "115838/115838 [==============================] - 52s 451us/sample - loss: 0.6406 - acc: 0.8026 - val_loss: 0.7397 - val_acc: 0.7794\n",
      "Epoch 12/18\n",
      "115838/115838 [==============================] - 51s 437us/sample - loss: 0.6222 - acc: 0.8074 - val_loss: 0.7423 - val_acc: 0.7798\n",
      "Epoch 13/18\n",
      "115838/115838 [==============================] - 51s 437us/sample - loss: 0.6041 - acc: 0.8120 - val_loss: 0.7513 - val_acc: 0.7803\n",
      "Epoch 14/18\n",
      "115838/115838 [==============================] - 53s 453us/sample - loss: 0.5881 - acc: 0.8172 - val_loss: 0.7683 - val_acc: 0.7759\n",
      "Epoch 15/18\n",
      "115838/115838 [==============================] - 51s 438us/sample - loss: 0.5684 - acc: 0.8217 - val_loss: 0.7717 - val_acc: 0.7790\n",
      "Epoch 16/18\n",
      "115838/115838 [==============================] - 54s 466us/sample - loss: 0.5470 - acc: 0.8272 - val_loss: 0.7857 - val_acc: 0.7761\n",
      "Epoch 17/18\n",
      "115838/115838 [==============================] - 52s 449us/sample - loss: 0.5289 - acc: 0.8328 - val_loss: 0.7893 - val_acc: 0.7761\n",
      "Epoch 18/18\n",
      "115838/115838 [==============================] - 50s 429us/sample - loss: 0.5068 - acc: 0.8384 - val_loss: 0.8083 - val_acc: 0.7771\n"
     ]
    }
   ],
   "source": [
    "model.compile(\n",
    "    loss='categorical_crossentropy',\n",
    "    optimizer='adam',\n",
    "    metrics=['acc']\n",
    ")\n",
    "\n",
    "with tf.device('/gpu:0'):\n",
    "    history = model.fit(\n",
    "        x_train, y_train,\n",
    "        batch_size=batch_size,\n",
    "        epochs=nb_epoch,\n",
    "        verbose=1,\n",
    "        validation_split = .2,\n",
    "        use_multiprocessing = True\n",
    "    )"
   ]
  },
  {
   "cell_type": "markdown",
   "metadata": {},
   "source": [
    "Accuracy score evolution by epochs"
   ]
  },
  {
   "cell_type": "code",
   "execution_count": 13,
   "metadata": {},
   "outputs": [
    {
     "data": {
      "image/png": "[encoded data removed]",
      "text/plain": [
       "<Figure size 432x288 with 1 Axes>"
      ]
     },
     "metadata": {
      "needs_background": "light"
     },
     "output_type": "display_data"
    }
   ],
   "source": [
    "plt.plot(history.history['acc'])\n",
    "plt.plot(history.history['val_acc'])\n",
    "plt.title('model accuracy')\n",
    "plt.ylabel('accuracy')\n",
    "plt.xlabel('epoch')\n",
    "plt.legend(['train', 'test'], loc='upper left')\n",
    "plt.show()"
   ]
  },
  {
   "cell_type": "markdown",
   "metadata": {},
   "source": [
    "Loss evolution by epochs"
   ]
  },
  {
   "cell_type": "code",
   "execution_count": 14,
   "metadata": {},
   "outputs": [
    {
     "data": {
      "image/png": "[encoded data removed]",
      "text/plain": [
       "<Figure size 432x288 with 1 Axes>"
      ]
     },
     "metadata": {
      "needs_background": "light"
     },
     "output_type": "display_data"
    }
   ],
   "source": [
    "plt.plot(history.history['loss'])\n",
    "plt.plot(history.history['val_loss'])\n",
    "plt.title('model loss')\n",
    "plt.ylabel('loss')\n",
    "plt.xlabel('epoch')\n",
    "plt.legend(['train', 'test'], loc='upper left')\n",
    "plt.show()"
   ]
  },
  {
   "cell_type": "markdown",
   "metadata": {},
   "source": [
    "## Evaluating"
   ]
  },
  {
   "cell_type": "code",
   "execution_count": 15,
   "metadata": {},
   "outputs": [
    {
     "name": "stdout",
     "output_type": "stream",
     "text": [
      "72399/72399 [==============================] - 9s 123us/sample - loss: 0.8286 - acc: 0.7708\n",
      "Categorical crossentropy: 0.828601825624051\n",
      "Categorical accuracy: 0.7707565\n"
     ]
    }
   ],
   "source": [
    "score = model.evaluate(x_test, y_test,\n",
    "                       batch_size=batch_size, verbose=1)\n",
    " \n",
    "print('Categorical crossentropy:', score[0])\n",
    "print('Categorical accuracy:', score[1])"
   ]
  },
  {
   "cell_type": "code",
   "execution_count": 16,
   "metadata": {},
   "outputs": [
    {
     "name": "stdout",
     "output_type": "stream",
     "text": [
      "                   precision    recall  f1-score   diff_di   support\n",
      "\n",
      "           pastor      0.643     0.404     0.496     1.063       312\n",
      "            model      0.758     0.631     0.689     5.360      3465\n",
      "               dj      0.746     0.661     0.701     0.151      3815\n",
      "        physician      0.709     0.492     0.581     0.008       297\n",
      "         comedian      0.722     0.618     0.666     0.975       319\n",
      "software_engineer      0.659     0.672     0.666     0.042      4144\n",
      "            nurse      0.778     0.734     0.755    14.048       758\n",
      "             poet      0.813     0.856     0.834     0.329      4902\n",
      "          dentist      0.880     0.924     0.901     4.747      1826\n",
      "     chiropractor      0.748     0.710     0.728     0.404      1377\n",
      "        filmmaker      0.427     0.392     0.409     0.069       487\n",
      "        professor      0.540     0.542     0.541     0.012      3065\n",
      "     yoga_teacher      0.742     0.665     0.701     0.247      1337\n",
      "     photographer      0.767     0.696     0.730     1.169      2175\n",
      "           rapper      0.646     0.442     0.525     0.357       285\n",
      "     psychologist      0.699     0.734     0.716     0.000      1465\n",
      "        paralegal      0.838     0.878     0.858     0.032     23306\n",
      "        architect      0.821     0.869     0.844     0.066      6297\n",
      "         composer      0.573     0.617     0.594     0.320       530\n",
      "         attorney      0.754     0.573     0.651     1.393       459\n",
      "        dietitian      0.541     0.416     0.471     0.002       269\n",
      "          teacher      0.858     0.819     0.838     0.036      4222\n",
      " personal_trainer      0.429     0.433     0.431     0.636       245\n",
      "          painter      0.640     0.624     0.632     1.081      1986\n",
      "       journalist      0.733     0.742     0.737     1.346      1135\n",
      "interior_designer      0.574     0.621     0.597     0.089      1354\n",
      "          surgeon      0.754     0.725     0.740     0.044      1533\n",
      "       accountant      0.612     0.705     0.655     0.176      1034\n",
      "\n",
      "         Accuracy                          0.771                    \n",
      "        macro avg      0.693     0.650     0.667     1.221     72399\n",
      "\n"
     ]
    }
   ],
   "source": [
    "pred = model.predict(x_test)\n",
    "y_pred = np.argmax(pred, axis=1)\n",
    "y_true = np.argmax(y_test, axis = 1)\n",
    "\n",
    "report = Report(\n",
    "    array_result = np.array([\n",
    "        y_true.tolist(),\n",
    "        y_pred.tolist(),\n",
    "        X_test.gender_name.to_list()\n",
    "    ]), categories = categories\n",
    ")\n",
    "\n",
    "print(report)"
   ]
  }
 ],
 "metadata": {
  "kernelspec": {
   "display_name": "Python 3.7.9 (jobclf)",
   "language": "python",
   "name": "jobclf"
  },
  "language_info": {
   "codemirror_mode": {
    "name": "ipython",
    "version": 3
   },
   "file_extension": ".py",
   "mimetype": "text/x-python",
   "name": "python",
   "nbconvert_exporter": "python",
   "pygments_lexer": "ipython3",
   "version": "3.7.9"
  },
  "latex_envs": {
   "LaTeX_envs_menu_present": true,
   "autoclose": false,
   "autocomplete": true,
   "bibliofile": "biblio.bib",
   "cite_by": "apalike",
   "current_citInitial": 1,
   "eqLabelWithNumbers": true,
   "eqNumInitial": 1,
   "hotkeys": {
    "equation": "Ctrl-E",
    "itemize": "Ctrl-I"
   },
   "labels_anchors": false,
   "latex_user_defs": false,
   "report_style_numbering": false,
   "user_envs_cfg": false
  }
 },
 "nbformat": 4,
 "nbformat_minor": 4
}
