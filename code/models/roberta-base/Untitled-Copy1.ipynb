{
 "cells": [
  {
   "cell_type": "code",
   "execution_count": 1,
   "metadata": {},
   "outputs": [],
   "source": [
    "import numpy as np\n",
    "import pandas as pd\n",
    "from sklearn.model_selection import train_test_split\n",
    "from sklearn.metrics import classification_report"
   ]
  },
  {
   "cell_type": "code",
   "execution_count": 2,
   "metadata": {},
   "outputs": [],
   "source": [
    "prob1 = np.load('Desktop/roberta-large-sub-011.npy')\n",
    "prob2 = np.load('Desktop/roberta-large-sub-062.npy')\n",
    "prob3 = np.load('Desktop/roberta-large-sub-103.npy')\n",
    "prob4 = np.load('Desktop/roberta-large-sub-114.npy')\n",
    "prob5 = np.load('Desktop/roberta-large-sub-125.npy')"
   ]
  },
  {
   "cell_type": "code",
   "execution_count": 3,
   "metadata": {},
   "outputs": [
    {
     "data": {
      "text/plain": [
       "array([[1.12910340e-04, 5.55885083e-04, 1.18448435e-04, ...,\n",
       "        6.64976193e-04, 2.78699584e-03, 3.89279157e-04],\n",
       "       [6.56240794e-04, 4.85153031e-03, 6.14418415e-04, ...,\n",
       "        2.37371074e-03, 6.30746782e-03, 3.40485130e-04],\n",
       "       [5.35287559e-02, 7.95097128e-02, 3.03988066e-02, ...,\n",
       "        6.18516028e-01, 3.32382560e-01, 3.66104022e-02],\n",
       "       ...,\n",
       "       [1.09243309e-02, 6.88673987e-04, 1.30662427e-03, ...,\n",
       "        2.03498527e-01, 1.71473960e-03, 2.12727624e-04],\n",
       "       [4.37372219e-04, 9.52517497e-04, 1.49816997e-05, ...,\n",
       "        4.27197047e-05, 2.49596519e+01, 2.81653611e-05],\n",
       "       [1.02939317e-02, 1.48896985e-02, 1.99851720e-03, ...,\n",
       "        2.43965045e-01, 1.10187959e-02, 6.76557072e-04]], dtype=float32)"
      ]
     },
     "execution_count": 3,
     "metadata": {},
     "output_type": "execute_result"
    }
   ],
   "source": [
    "probs = prob1 + prob2 + prob3 + prob4 + prob5\n",
    "probs"
   ]
  },
  {
   "cell_type": "code",
   "execution_count": 4,
   "metadata": {},
   "outputs": [],
   "source": [
    "PATH = '/Users/antoineadam/git/NLPChallenge2021/data/'\n",
    "#\n",
    "#df = pd.read_json(PATH+'train.json').set_index('Id').loc[:, 'description']\n",
    "#labels = pd.read_csv(PATH+'train_label.csv', index_col=0).loc[:, 'Category'].astype('category').cat.codes\n",
    "#\n",
    "#data_text, data_label = df.tolist(), labels.tolist()\n",
    "#trainval_texts, test_texts, trainval_labels, test_labels = train_test_split(data_text, data_label, \n",
    "#                                                                            test_size=.2, \n",
    "#                                                                            stratify=data_label, \n",
    "#                                                                            random_state=42069)\n",
    "#train_texts, val_texts, train_labels, val_labels = train_test_split(trainval_texts, trainval_labels, \n",
    "#                                                                    test_size=.1, \n",
    "#                                                                    stratify=trainval_labels, \n",
    "#                                                                    random_state=42)\n",
    "\n"
   ]
  },
  {
   "cell_type": "code",
   "execution_count": 5,
   "metadata": {
    "scrolled": true
   },
   "outputs": [],
   "source": [
    "y_pred = np.argmax(probs, axis=1)\n",
    "\n",
    "# print(classification_report(test_labels, y_pred, digits=4))"
   ]
  },
  {
   "cell_type": "code",
   "execution_count": 6,
   "metadata": {
    "scrolled": true
   },
   "outputs": [
    {
     "data": {
      "text/html": [
       "<div>\n",
       "<style scoped>\n",
       "    .dataframe tbody tr th:only-of-type {\n",
       "        vertical-align: middle;\n",
       "    }\n",
       "\n",
       "    .dataframe tbody tr th {\n",
       "        vertical-align: top;\n",
       "    }\n",
       "\n",
       "    .dataframe thead th {\n",
       "        text-align: right;\n",
       "    }\n",
       "</style>\n",
       "<table border=\"1\" class=\"dataframe\">\n",
       "  <thead>\n",
       "    <tr style=\"text-align: right;\">\n",
       "      <th></th>\n",
       "      <th>Id</th>\n",
       "      <th>Category</th>\n",
       "    </tr>\n",
       "  </thead>\n",
       "  <tbody>\n",
       "    <tr>\n",
       "      <th>0</th>\n",
       "      <td>0</td>\n",
       "      <td>6</td>\n",
       "    </tr>\n",
       "    <tr>\n",
       "      <th>1</th>\n",
       "      <td>1</td>\n",
       "      <td>20</td>\n",
       "    </tr>\n",
       "    <tr>\n",
       "      <th>2</th>\n",
       "      <td>2</td>\n",
       "      <td>19</td>\n",
       "    </tr>\n",
       "    <tr>\n",
       "      <th>3</th>\n",
       "      <td>3</td>\n",
       "      <td>19</td>\n",
       "    </tr>\n",
       "    <tr>\n",
       "      <th>4</th>\n",
       "      <td>4</td>\n",
       "      <td>19</td>\n",
       "    </tr>\n",
       "    <tr>\n",
       "      <th>...</th>\n",
       "      <td>...</td>\n",
       "      <td>...</td>\n",
       "    </tr>\n",
       "    <tr>\n",
       "      <th>54295</th>\n",
       "      <td>54295</td>\n",
       "      <td>19</td>\n",
       "    </tr>\n",
       "    <tr>\n",
       "      <th>54296</th>\n",
       "      <td>54296</td>\n",
       "      <td>12</td>\n",
       "    </tr>\n",
       "    <tr>\n",
       "      <th>54297</th>\n",
       "      <td>54297</td>\n",
       "      <td>19</td>\n",
       "    </tr>\n",
       "    <tr>\n",
       "      <th>54298</th>\n",
       "      <td>54298</td>\n",
       "      <td>26</td>\n",
       "    </tr>\n",
       "    <tr>\n",
       "      <th>54299</th>\n",
       "      <td>54299</td>\n",
       "      <td>15</td>\n",
       "    </tr>\n",
       "  </tbody>\n",
       "</table>\n",
       "<p>54300 rows × 2 columns</p>\n",
       "</div>"
      ],
      "text/plain": [
       "          Id  Category\n",
       "0          0         6\n",
       "1          1        20\n",
       "2          2        19\n",
       "3          3        19\n",
       "4          4        19\n",
       "...      ...       ...\n",
       "54295  54295        19\n",
       "54296  54296        12\n",
       "54297  54297        19\n",
       "54298  54298        26\n",
       "54299  54299        15\n",
       "\n",
       "[54300 rows x 2 columns]"
      ]
     },
     "execution_count": 6,
     "metadata": {},
     "output_type": "execute_result"
    }
   ],
   "source": [
    "submission = pd.read_csv(PATH+'template_submissions.csv')\n",
    "submission.Category = y_pred\n",
    "submission"
   ]
  },
  {
   "cell_type": "code",
   "execution_count": 7,
   "metadata": {},
   "outputs": [],
   "source": [
    "submission.to_csv('Desktop/ensemble_v1.csv', index=False)"
   ]
  },
  {
   "cell_type": "code",
   "execution_count": 27,
   "metadata": {},
   "outputs": [],
   "source": [
    "#test_texts = pd.read_json(PATH+'test.json').set_index('Id').loc[:, 'description'].tolist()"
   ]
  },
  {
   "cell_type": "code",
   "execution_count": 35,
   "metadata": {
    "scrolled": true
   },
   "outputs": [
    {
     "data": {
      "text/plain": [
       "' Formerly, she was the Coordinator for Music Education at the University of Wisconsin Stevens Point, a high-school vocal music director, elementary music specialist, a musical theatre director, organist, and pastoral musician. She holds a bachelor’s degree in Music Education from the University of Louisville, a master’s degree in Music from Colorado State University, and a Ph.D. in Music from the University of Iowa. In her spare time, Catherine enjoys distance running, writing and composing.'"
      ]
     },
     "execution_count": 35,
     "metadata": {},
     "output_type": "execute_result"
    }
   ],
   "source": [
    "#test_texts[54296]"
   ]
  }
 ],
 "metadata": {
  "kernelspec": {
   "display_name": "ml",
   "language": "python",
   "name": "ml"
  },
  "language_info": {
   "codemirror_mode": {
    "name": "ipython",
    "version": 3
   },
   "file_extension": ".py",
   "mimetype": "text/x-python",
   "name": "python",
   "nbconvert_exporter": "python",
   "pygments_lexer": "ipython3",
   "version": "3.9.0"
  }
 },
 "nbformat": 4,
 "nbformat_minor": 4
}
