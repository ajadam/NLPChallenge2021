{
 "cells": [
  {
   "cell_type": "code",
   "execution_count": 1,
   "metadata": {},
   "outputs": [],
   "source": [
    "import numpy as np\n",
    "import pandas as pd\n",
    "from sklearn.model_selection import train_test_split\n",
    "from sklearn.metrics import classification_report"
   ]
  },
  {
   "cell_type": "code",
   "execution_count": 4,
   "metadata": {},
   "outputs": [],
   "source": [
    "prob1 = np.load('/Users/antoineadam/git/NLPChallenge2021/code/models/ensemble_v1/estimation_holdout/roberta-large-test-425.npy')\n",
    "prob2 = np.load('/Users/antoineadam/git/NLPChallenge2021/code/models/ensemble_v1/estimation_holdout/roberta-large-test-241.npy')\n",
    "prob3 = np.load('/Users/antoineadam/git/NLPChallenge2021/code/models/electra_large/electra_35.npy')"
   ]
  },
  {
   "cell_type": "code",
   "execution_count": 14,
   "metadata": {},
   "outputs": [
    {
     "data": {
      "text/plain": [
       "array([[3.5884553e-03, 2.1871321e-02, 7.0127373e-04, ..., 1.5057429e-02,\n",
       "        1.1462271e-01, 1.3181306e-03],\n",
       "       [5.1344781e-05, 8.6716539e-04, 5.5061813e-05, ..., 2.4077685e-03,\n",
       "        3.6692939e-04, 1.0202491e-05],\n",
       "       [2.3567743e-04, 1.6382747e-04, 4.7386748e-05, ..., 2.2684126e-05,\n",
       "        9.9515543e+00, 4.1152612e-06],\n",
       "       ...,\n",
       "       [4.9737053e-05, 8.2402700e-04, 4.1747375e-05, ..., 6.9010683e-05,\n",
       "        1.2742543e-03, 3.6806181e-05],\n",
       "       [1.3226888e-05, 5.5135541e-05, 5.3911385e-06, ..., 1.6912029e-05,\n",
       "        1.5694251e-04, 2.5719863e-05],\n",
       "       [4.9757502e-05, 1.1839647e-04, 2.0064446e-05, ..., 1.6865321e-05,\n",
       "        6.1406905e-04, 5.9962507e-02]], dtype=float32)"
      ]
     },
     "execution_count": 14,
     "metadata": {},
     "output_type": "execute_result"
    }
   ],
   "source": [
    "probs = prob1 + prob2\n",
    "probs"
   ]
  },
  {
   "cell_type": "code",
   "execution_count": 6,
   "metadata": {},
   "outputs": [],
   "source": [
    "PATH = '/Users/antoineadam/git/NLPChallenge2021/data/'\n",
    "\n",
    "df = pd.read_json(PATH+'train.json').set_index('Id').loc[:, 'description']\n",
    "labels = pd.read_csv(PATH+'train_label.csv', index_col=0).loc[:, 'Category'].astype('category').cat.codes\n",
    "\n",
    "data_text, data_label = df.tolist(), labels.tolist()\n",
    "trainval_texts, test_texts, trainval_labels, test_labels = train_test_split(data_text, data_label, \n",
    "                                                                            test_size=.2, \n",
    "                                                                            stratify=data_label, \n",
    "                                                                            random_state=42069)\n",
    "#train_texts, val_texts, train_labels, val_labels = train_test_split(trainval_texts, trainval_labels, \n",
    "#                                                                    test_size=.1, \n",
    "#                                                                    stratify=trainval_labels, \n",
    "#                                                                    random_state=42)\n",
    "\n"
   ]
  },
  {
   "cell_type": "code",
   "execution_count": 15,
   "metadata": {
    "scrolled": true
   },
   "outputs": [
    {
     "name": "stdout",
     "output_type": "stream",
     "text": [
      "              precision    recall  f1-score   support\n",
      "\n",
      "           0     0.6821    0.7391    0.7095       299\n",
      "           1     0.8422    0.8433    0.8427       823\n",
      "           2     0.7678    0.8571    0.8100       189\n",
      "           3     0.7464    0.6840    0.7138      1829\n",
      "           4     0.7791    0.8323    0.8048       161\n",
      "           5     0.8485    0.8669    0.8576       924\n",
      "           6     0.8249    0.8203    0.8226      2459\n",
      "           7     0.8176    0.8081    0.8129       172\n",
      "           8     0.8389    0.8307    0.8348      1323\n",
      "           9     0.8391    0.8109    0.8248       624\n",
      "          10     0.9103    0.7952    0.8489       166\n",
      "          11     0.8079    0.7606    0.7835      2322\n",
      "          12     0.8378    0.8506    0.8442       328\n",
      "          13     0.7341    0.8264    0.7775       812\n",
      "          14     0.8782    0.8879    0.8830      2525\n",
      "          15     0.8163    0.8382    0.8271       859\n",
      "          16     0.9507    0.9376    0.9441      1090\n",
      "          17     0.7888    0.7046    0.7444       281\n",
      "          18     0.8738    0.8558    0.8647       825\n",
      "          19     0.9179    0.9399    0.9288     14003\n",
      "          20     0.8997    0.9187    0.9091      2929\n",
      "          21     0.8166    0.8790    0.8466       157\n",
      "          22     0.8583    0.8017    0.8291      2078\n",
      "          23     0.9068    0.7565    0.8249       193\n",
      "          24     0.8298    0.7012    0.7601      1168\n",
      "          25     0.9043    0.9043    0.9043       679\n",
      "          26     0.9013    0.9320    0.9164      3764\n",
      "          27     0.8969    0.8930    0.8950       458\n",
      "\n",
      "    accuracy                         0.8727     43440\n",
      "   macro avg     0.8399    0.8313    0.8345     43440\n",
      "weighted avg     0.8719    0.8727    0.8718     43440\n",
      "\n"
     ]
    }
   ],
   "source": [
    "y_pred = np.argmax(probs, axis=1)\n",
    "\n",
    "print(classification_report(test_labels, y_pred, digits=4))"
   ]
  },
  {
   "cell_type": "code",
   "execution_count": null,
   "metadata": {},
   "outputs": [],
   "source": []
  }
 ],
 "metadata": {
  "kernelspec": {
   "display_name": "ml",
   "language": "python",
   "name": "ml"
  },
  "language_info": {
   "codemirror_mode": {
    "name": "ipython",
    "version": 3
   },
   "file_extension": ".py",
   "mimetype": "text/x-python",
   "name": "python",
   "nbconvert_exporter": "python",
   "pygments_lexer": "ipython3",
   "version": "3.9.0"
  }
 },
 "nbformat": 4,
 "nbformat_minor": 4
}
