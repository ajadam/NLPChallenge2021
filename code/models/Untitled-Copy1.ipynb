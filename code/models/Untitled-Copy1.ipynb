{
 "cells": [
  {
   "cell_type": "code",
   "execution_count": 1,
   "metadata": {},
   "outputs": [],
   "source": [
    "import numpy as np\n",
    "import pandas as pd\n",
    "from sklearn.model_selection import train_test_split\n",
    "from sklearn.metrics import classification_report"
   ]
  },
  {
   "cell_type": "code",
   "execution_count": 11,
   "metadata": {},
   "outputs": [],
   "source": [
    "prob1 = np.load('/Users/antoineadam/git/NLPChallenge2021/code/models/ensemble_v1/estimation_holdout/roberta-large-test-425.npy')\n",
    "prob2 = np.load('/Users/antoineadam/git/NLPChallenge2021/code/models/ensemble_v1/estimation_holdout/roberta-large-test-241.npy')\n",
    "prob3 = np.load('/Users/antoineadam/git/NLPChallenge2021/code/models/BERT-large/bert-large-test-12.npy')\n",
    "prob4 = np.load('/Users/antoineadam/git/NLPChallenge2021/code/models/BERT-large/bert-large-test-42.npy')"
   ]
  },
  {
   "cell_type": "code",
   "execution_count": 12,
   "metadata": {},
   "outputs": [
    {
     "data": {
      "text/plain": [
       "array([[5.08248014e-03, 2.43101399e-02, 1.09646167e-03, ...,\n",
       "        1.74950566e-02, 1.55864909e-01, 1.72442058e-03],\n",
       "       [1.24403727e-04, 1.30804197e-03, 1.40412987e-04, ...,\n",
       "        5.23635698e-03, 5.79362910e-04, 6.18481936e-05],\n",
       "       [2.83378497e-04, 3.50377115e-04, 5.44738905e-05, ...,\n",
       "        4.33965397e-05, 1.99406300e+01, 1.76884478e-05],\n",
       "       ...,\n",
       "       [1.11288238e-04, 2.48708739e-03, 8.76145932e-05, ...,\n",
       "        1.09261906e-04, 1.52683596e-03, 1.03384467e-04],\n",
       "       [3.77110009e-05, 1.02363614e-04, 1.73336975e-05, ...,\n",
       "        5.08273697e-05, 2.52494181e-04, 9.34894924e-05],\n",
       "       [7.25510909e-05, 1.74492758e-04, 4.77233079e-05, ...,\n",
       "        4.68353173e-05, 7.81708513e-04, 9.86642614e-02]], dtype=float32)"
      ]
     },
     "execution_count": 12,
     "metadata": {},
     "output_type": "execute_result"
    }
   ],
   "source": [
    "probs = prob1 + prob2 + prob3 + prob4\n",
    "probs"
   ]
  },
  {
   "cell_type": "code",
   "execution_count": 5,
   "metadata": {},
   "outputs": [],
   "source": [
    "PATH = '/Users/antoineadam/git/NLPChallenge2021/data/'\n",
    "\n",
    "df = pd.read_json(PATH+'train.json').set_index('Id').loc[:, 'description']\n",
    "labels = pd.read_csv(PATH+'train_label.csv', index_col=0).loc[:, 'Category'].astype('category').cat.codes\n",
    "\n",
    "data_text, data_label = df.tolist(), labels.tolist()\n",
    "trainval_texts, test_texts, trainval_labels, test_labels = train_test_split(data_text, data_label, \n",
    "                                                                            test_size=.2, \n",
    "                                                                            stratify=data_label, \n",
    "                                                                            random_state=42069)\n",
    "#train_texts, val_texts, train_labels, val_labels = train_test_split(trainval_texts, trainval_labels, \n",
    "#                                                                    test_size=.1, \n",
    "#                                                                    stratify=trainval_labels, \n",
    "#                                                                    random_state=42)\n",
    "\n"
   ]
  },
  {
   "cell_type": "code",
   "execution_count": 17,
   "metadata": {
    "scrolled": true
   },
   "outputs": [
    {
     "name": "stdout",
     "output_type": "stream",
     "text": [
      "              precision    recall  f1-score   support\n",
      "\n",
      "           0     0.6967    0.6990    0.6978       299\n",
      "           1     0.8285    0.8396    0.8340       823\n",
      "           2     0.7681    0.8413    0.8030       189\n",
      "           3     0.7560    0.6709    0.7109      1829\n",
      "           4     0.7674    0.8199    0.7928       161\n",
      "           5     0.8325    0.8766    0.8540       924\n",
      "           6     0.7984    0.8296    0.8137      2459\n",
      "           7     0.8035    0.8081    0.8058       172\n",
      "           8     0.8466    0.8012    0.8233      1323\n",
      "           9     0.8216    0.8045    0.8130       624\n",
      "          10     0.8693    0.8012    0.8339       166\n",
      "          11     0.7965    0.7752    0.7857      2322\n",
      "          12     0.8480    0.8506    0.8493       328\n",
      "          13     0.7244    0.8190    0.7688       812\n",
      "          14     0.8813    0.8737    0.8775      2525\n",
      "          15     0.8161    0.8265    0.8213       859\n",
      "          16     0.9490    0.9394    0.9442      1090\n",
      "          17     0.7886    0.6904    0.7362       281\n",
      "          18     0.8642    0.8485    0.8563       825\n",
      "          19     0.9147    0.9384    0.9264     14003\n",
      "          20     0.9090    0.9102    0.9096      2929\n",
      "          21     0.8481    0.8535    0.8508       157\n",
      "          22     0.8314    0.8094    0.8203      2078\n",
      "          23     0.8800    0.7979    0.8370       193\n",
      "          24     0.8234    0.6986    0.7559      1168\n",
      "          25     0.9083    0.8895    0.8988       679\n",
      "          26     0.9115    0.9245    0.9180      3764\n",
      "          27     0.9005    0.8690    0.8844       458\n",
      "\n",
      "    accuracy                         0.8691     43440\n",
      "   macro avg     0.8351    0.8252    0.8294     43440\n",
      "weighted avg     0.8684    0.8691    0.8683     43440\n",
      "\n"
     ]
    }
   ],
   "source": [
    "y_pred = np.argmax(prob1, axis=1)\n",
    "\n",
    "print(classification_report(test_labels, y_pred, digits=4))"
   ]
  },
  {
   "cell_type": "code",
   "execution_count": 27,
   "metadata": {},
   "outputs": [],
   "source": [
    "from sklearn.metrics import confusion_matrix\n",
    "M = confusion_matrix(test_labels, y_pred, normalize = 'true')"
   ]
  },
  {
   "cell_type": "code",
   "execution_count": 28,
   "metadata": {},
   "outputs": [
    {
     "data": {
      "text/plain": [
       "<matplotlib.image.AxesImage at 0x7f81df4f8520>"
      ]
     },
     "execution_count": 28,
     "metadata": {},
     "output_type": "execute_result"
    },
    {
     "data": {
      "image/png": "[encoded data removed]",
      "text/plain": [
       "<Figure size 432x288 with 1 Axes>"
      ]
     },
     "metadata": {
      "needs_background": "light"
     },
     "output_type": "display_data"
    }
   ],
   "source": [
    "import matplotlib.pyplot as plt\n",
    "plt.imshow(M)"
   ]
  }
 ],
 "metadata": {
  "kernelspec": {
   "display_name": "ml",
   "language": "python",
   "name": "ml"
  },
  "language_info": {
   "codemirror_mode": {
    "name": "ipython",
    "version": 3
   },
   "file_extension": ".py",
   "mimetype": "text/x-python",
   "name": "python",
   "nbconvert_exporter": "python",
   "pygments_lexer": "ipython3",
   "version": "3.9.0"
  }
 },
 "nbformat": 4,
 "nbformat_minor": 4
}
