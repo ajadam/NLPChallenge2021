{
 "cells": [
  {
   "cell_type": "markdown",
   "metadata": {},
   "source": [
    "Linear SVC\n",
    "---\n",
    "The model has been trained by nested GridSearchCV to search for the best parameters.  \n",
    "The goal here is to calibrate the model to have an output matrix, in order to use it for soft voting."
   ]
  },
  {
   "cell_type": "code",
   "execution_count": 1,
   "metadata": {},
   "outputs": [],
   "source": [
    "import sys\n",
    "sys.path.append(\"../\")\n",
    "\n",
    "import tensorflow as tf\n",
    "\n",
    "import numpy as np\n",
    "import pandas as pd\n",
    "import matplotlib.pyplot as plt\n",
    "from scipy.sparse import hstack\n",
    "\n",
    "from sklearn.model_selection import train_test_split, StratifiedKFold\n",
    "from sklearn.feature_extraction.text import TfidfVectorizer\n",
    "from sklearn.calibration import CalibratedClassifierCV\n",
    "from sklearn.svm import LinearSVC\n",
    "\n",
    "from utils import clean_text\n",
    "from utils.metrics import Report"
   ]
  },
  {
   "cell_type": "markdown",
   "metadata": {},
   "source": [
    "# Import Data"
   ]
  },
  {
   "cell_type": "code",
   "execution_count": 2,
   "metadata": {},
   "outputs": [],
   "source": [
    "data_path = '../../data/'"
   ]
  },
  {
   "cell_type": "code",
   "execution_count": 3,
   "metadata": {},
   "outputs": [],
   "source": [
    "with open(data_path + 'categories_string.csv') as f:\n",
    "    categories = dict(map(lambda x:x.strip('\\n').split(',')[::-1], f.readlines()[1:]))\n",
    "    \n",
    "X = pd.read_json(data_path + 'train.json').set_index('Id')\n",
    "y = pd.read_csv(data_path + 'train_label.csv', index_col='Id', dtype={'Category': 'category'}).Category"
   ]
  },
  {
   "cell_type": "markdown",
   "metadata": {},
   "source": [
    "# Preparing data\n",
    "Words number per X"
   ]
  },
  {
   "cell_type": "code",
   "execution_count": 4,
   "metadata": {},
   "outputs": [
    {
     "data": {
      "text/plain": [
       "<AxesSubplot:>"
      ]
     },
     "execution_count": 4,
     "metadata": {},
     "output_type": "execute_result"
    },
    {
     "data": {
      "image/png": "[encoded data removed]",
      "text/plain": [
       "<Figure size 432x288 with 1 Axes>"
      ]
     },
     "metadata": {
      "needs_background": "light"
     },
     "output_type": "display_data"
    }
   ],
   "source": [
    "X['gender_name'] = X.gender\n",
    "X.gender = X.loc[:, 'gender'].astype('category').cat.codes.rename(\"gender_cat\")\n",
    "X.description = X.description.apply(clean_text)\n",
    "\n",
    "X.description.apply(lambda x:x.split().__len__()).hist()"
   ]
  },
  {
   "cell_type": "markdown",
   "metadata": {},
   "source": [
    "Split to train and test sets"
   ]
  },
  {
   "cell_type": "code",
   "execution_count": 5,
   "metadata": {},
   "outputs": [],
   "source": [
    "X_train, X_test, y_train, y_test = train_test_split(\n",
    "    X, y, test_size = 1/3, random_state=42069)\n",
    "X_train = X_train.reset_index(drop = True)\n",
    "X_test = X_test.reset_index(drop = True)"
   ]
  },
  {
   "cell_type": "markdown",
   "metadata": {},
   "source": [
    "## Processing X\n",
    "Converting description to TFDIF vector.  \n",
    "Adding `gender` categorical feature to `x`."
   ]
  },
  {
   "cell_type": "code",
   "execution_count": 6,
   "metadata": {},
   "outputs": [
    {
     "name": "stdout",
     "output_type": "stream",
     "text": [
      "Train: n_samples: 144798, n_features: 132709\n",
      "Test: n_samples: 72399, n_features: 132709\n"
     ]
    }
   ],
   "source": [
    "vectorizer = TfidfVectorizer(sublinear_tf=True, max_df=0.5,\n",
    "                             stop_words='english')\n",
    "X_desc = vectorizer.fit_transform(X_train.description)\n",
    "x_train = hstack((X_desc, X_train.gender.to_numpy().reshape(-1,1))).tocsr()\n",
    "del X_desc\n",
    "print(\"Train: n_samples: %d, n_features: %d\" % x_train.shape)\n",
    "\n",
    "X_desc = vectorizer.transform(X_test.description)\n",
    "x_test = hstack((X_desc, X_test.gender.to_numpy().reshape(-1,1))).tocsr()\n",
    "del X_desc\n",
    "print(\"Test: n_samples: %d, n_features: %d\" % x_test.shape)\n",
    "\n",
    "feature_names = vectorizer.get_feature_names() + ['gender_cat']"
   ]
  },
  {
   "cell_type": "markdown",
   "metadata": {},
   "source": [
    "# Model\n",
    "LinearSVC\n",
    "\n",
    "## Training"
   ]
  },
  {
   "cell_type": "code",
   "execution_count": 7,
   "metadata": {},
   "outputs": [],
   "source": [
    "cv_sets  = StratifiedKFold(10)"
   ]
  },
  {
   "cell_type": "code",
   "execution_count": 8,
   "metadata": {},
   "outputs": [
    {
     "data": {
      "text/plain": [
       "CalibratedClassifierCV(base_estimator=LinearSVC(C=0.2777777777777778,\n",
       "                                                max_iter=5000,\n",
       "                                                random_state=42069, tol=0.001),\n",
       "                       cv=StratifiedKFold(n_splits=10, random_state=None, shuffle=False),\n",
       "                       method='isotonic')"
      ]
     },
     "execution_count": 8,
     "metadata": {},
     "output_type": "execute_result"
    }
   ],
   "source": [
    "base = LinearSVC(C=0.2777777777777778, max_iter=5000, random_state=42069, tol=0.001)\n",
    "model = CalibratedClassifierCV(\n",
    "    base, method = 'isotonic',\n",
    "    cv = cv_sets\n",
    ")\n",
    "\n",
    "model.fit(x_train, y_train)"
   ]
  },
  {
   "cell_type": "markdown",
   "metadata": {},
   "source": [
    "## Evaluating"
   ]
  },
  {
   "cell_type": "code",
   "execution_count": 9,
   "metadata": {},
   "outputs": [
    {
     "name": "stdout",
     "output_type": "stream",
     "text": [
      "                   precision    recall  f1-score   diff_di   support\n",
      "\n",
      "           pastor      0.671     0.735     0.701     0.339      4144\n",
      "            model      0.741     0.743     0.742     3.859       530\n",
      "               dj      0.826     0.776     0.800     0.294       245\n",
      "        physician      0.881     0.811     0.844     0.073      4222\n",
      "         comedian      0.854     0.506     0.636     0.019       312\n",
      "software_engineer      0.680     0.649     0.664     0.798      1354\n",
      "            nurse      0.736     0.694     0.714     0.675      3815\n",
      "             poet      0.732     0.767     0.749     0.017      1465\n",
      "          dentist      0.927     0.930     0.929     0.042      1826\n",
      "     chiropractor      0.833     0.874     0.853     0.031      4902\n",
      "        filmmaker      0.736     0.627     0.678     0.067      1986\n",
      "        professor      0.808     0.720     0.761     0.029      1034\n",
      "     yoga_teacher      0.852     0.709     0.774     1.939       285\n",
      "     photographer      0.821     0.832     0.826     0.019       758\n",
      "           rapper      0.780     0.779     0.780     0.848      1377\n",
      "     psychologist      0.850     0.879     0.864     0.227      6297\n",
      "        paralegal      0.846     0.888     0.866     0.616     23306\n",
      "        architect      0.711     0.663     0.686     0.070       297\n",
      "         composer      0.726     0.755     0.740     0.203       319\n",
      "         attorney      0.758     0.699     0.727     0.019      3465\n",
      "        dietitian      0.867     0.610     0.716     3.263       459\n",
      "          teacher      0.783     0.799     0.791     0.167      1533\n",
      " personal_trainer      0.776     0.854     0.813     0.197      1135\n",
      "          painter      0.592     0.546     0.568     0.011      3065\n",
      "       journalist      0.619     0.630     0.625     0.002       487\n",
      "interior_designer      0.719     0.628     0.671     0.191       269\n",
      "          surgeon      0.796     0.723     0.758     0.236      2175\n",
      "       accountant      0.818     0.726     0.769     0.101      1337\n",
      "\n",
      "         Accuracy                          0.801                    \n",
      "        macro avg      0.776     0.734     0.752     0.513     72399\n",
      "\n"
     ]
    }
   ],
   "source": [
    "y_pred = model.predict(x_test)\n",
    "report = Report(\n",
    "    array_result = np.array([\n",
    "        y_test.tolist(),\n",
    "        y_pred.tolist(),\n",
    "        X_test.gender_name.to_list()\n",
    "    ]), categories = categories\n",
    ")\n",
    "\n",
    "print(report)"
   ]
  }
 ],
 "metadata": {
  "kernelspec": {
   "display_name": "Python 3.7.9 (jobclf)",
   "language": "python",
   "name": "jobclf"
  },
  "language_info": {
   "codemirror_mode": {
    "name": "ipython",
    "version": 3
   },
   "file_extension": ".py",
   "mimetype": "text/x-python",
   "name": "python",
   "nbconvert_exporter": "python",
   "pygments_lexer": "ipython3",
   "version": "3.7.9"
  },
  "latex_envs": {
   "LaTeX_envs_menu_present": true,
   "autoclose": false,
   "autocomplete": true,
   "bibliofile": "biblio.bib",
   "cite_by": "apalike",
   "current_citInitial": 1,
   "eqLabelWithNumbers": true,
   "eqNumInitial": 1,
   "hotkeys": {
    "equation": "Ctrl-E",
    "itemize": "Ctrl-I"
   },
   "labels_anchors": false,
   "latex_user_defs": false,
   "report_style_numbering": false,
   "user_envs_cfg": false
  }
 },
 "nbformat": 4,
 "nbformat_minor": 4
}
