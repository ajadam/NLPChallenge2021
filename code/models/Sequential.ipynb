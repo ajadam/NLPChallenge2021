{
 "cells": [
  {
   "cell_type": "markdown",
   "metadata": {},
   "source": [
    "Sequential\n",
    "--"
   ]
  },
  {
   "cell_type": "code",
   "execution_count": 1,
   "metadata": {},
   "outputs": [],
   "source": [
    "import sys\n",
    "sys.path.append(\"../\")\n",
    "\n",
    "import tensorflow as tf\n",
    "import tensorflow.keras as keras\n",
    "from tensorflow.keras import callbacks, backend as K\n",
    "from tensorflow.keras.preprocessing.text import Tokenizer\n",
    "from tensorflow.keras.preprocessing import sequence\n",
    "from tensorflow.keras.models import Sequential\n",
    "from tensorflow.keras.layers import Dense, Dropout, Activation, concatenate\n",
    "from tensorflow.keras.constraints import max_norm\n",
    "from sklearn.model_selection import train_test_split\n",
    "from sklearn.preprocessing import LabelBinarizer\n",
    "\n",
    "import numpy as np\n",
    "import pandas as pd\n",
    "import matplotlib.pyplot as plt\n",
    "from scipy import sparse as sp\n",
    "\n",
    "from utils import clean_text\n",
    "from utils.metrics import Report"
   ]
  },
  {
   "cell_type": "code",
   "execution_count": 2,
   "metadata": {},
   "outputs": [],
   "source": [
    "physical_devices = tf.config.list_physical_devices('GPU')\n",
    "tf.config.experimental.set_memory_growth(physical_devices[0], True)"
   ]
  },
  {
   "cell_type": "markdown",
   "metadata": {},
   "source": [
    "# Import Data"
   ]
  },
  {
   "cell_type": "code",
   "execution_count": 3,
   "metadata": {},
   "outputs": [],
   "source": [
    "data_path = '../../data/'"
   ]
  },
  {
   "cell_type": "code",
   "execution_count": 4,
   "metadata": {},
   "outputs": [],
   "source": [
    "with open(data_path + 'categories_string.csv') as f:\n",
    "    categories = dict(map(lambda x:x.strip('\\n').split(',')[::-1], f.readlines()[1:]))\n",
    "\n",
    "X = pd.read_json(data_path + 'train.json').set_index('Id')\n",
    "y = pd.read_csv(data_path + 'train_label.csv', index_col='Id', dtype={'Category': 'category'}).Category"
   ]
  },
  {
   "cell_type": "markdown",
   "metadata": {},
   "source": [
    "# Preparing data\n",
    "Words number per X"
   ]
  },
  {
   "cell_type": "code",
   "execution_count": 5,
   "metadata": {},
   "outputs": [
    {
     "data": {
      "text/plain": [
       "<AxesSubplot:>"
      ]
     },
     "execution_count": 5,
     "metadata": {},
     "output_type": "execute_result"
    },
    {
     "data": {
      "image/png": "[encoded data removed]",
      "text/plain": [
       "<Figure size 432x288 with 1 Axes>"
      ]
     },
     "metadata": {
      "needs_background": "light"
     },
     "output_type": "display_data"
    }
   ],
   "source": [
    "X['gender_name'] = X.gender\n",
    "X.gender = X.loc[:, 'gender'].astype('category').cat.codes.rename(\"gender_cat\")\n",
    "X.description = X.description.apply(clean_text)\n",
    "\n",
    "X.description.apply(lambda x:x.split().__len__()).hist()"
   ]
  },
  {
   "cell_type": "markdown",
   "metadata": {},
   "source": [
    "Split to train and test sets"
   ]
  },
  {
   "cell_type": "code",
   "execution_count": 6,
   "metadata": {},
   "outputs": [],
   "source": [
    "X_train, X_test, y_train, y_test = train_test_split(\n",
    "    X, y, test_size = 1/3, random_state=42069)\n",
    "X_train = X_train.reset_index(drop = True)\n",
    "X_test = X_test.reset_index(drop = True)"
   ]
  },
  {
   "cell_type": "markdown",
   "metadata": {},
   "source": [
    "### Global features and hyper params dimension"
   ]
  },
  {
   "cell_type": "code",
   "execution_count": 7,
   "metadata": {},
   "outputs": [],
   "source": [
    "vocab_size = 6000\n",
    "input_length = vocab_size + 1\n",
    "num_labels = 28\n",
    "batch_size = 512\n",
    "nb_epoch = 40"
   ]
  },
  {
   "cell_type": "markdown",
   "metadata": {},
   "source": [
    "## Processing X\n",
    "Converting description to word sequence.  \n",
    "Adding `gender` categorical feature to `x`."
   ]
  },
  {
   "cell_type": "code",
   "execution_count": 8,
   "metadata": {},
   "outputs": [],
   "source": [
    "tokenizer = Tokenizer(num_words = vocab_size)\n",
    "tokenizer.fit_on_texts(X_train.description)"
   ]
  },
  {
   "cell_type": "code",
   "execution_count": 9,
   "metadata": {},
   "outputs": [],
   "source": [
    "desc_train = tokenizer.texts_to_matrix(X_train.description, mode='tfidf')\n",
    "desc_test = tokenizer.texts_to_matrix(X_test.description, mode='tfidf')"
   ]
  },
  {
   "cell_type": "code",
   "execution_count": 10,
   "metadata": {},
   "outputs": [],
   "source": [
    "x_train = sp.hstack((sp.csr_matrix(desc_train), X_train.gender.to_numpy('float64').reshape(-1,1)-2)).tocsr()\n",
    "x_test = sp.hstack((sp.csr_matrix(desc_test), X_test.gender.to_numpy('float64').reshape(-1,1)-2)).tocsr()"
   ]
  },
  {
   "cell_type": "markdown",
   "metadata": {},
   "source": [
    "## Processing Y\n",
    "Convert Y to matrix"
   ]
  },
  {
   "cell_type": "code",
   "execution_count": 11,
   "metadata": {},
   "outputs": [],
   "source": [
    "encoder = LabelBinarizer()\n",
    "encoder.fit(y_train)\n",
    "y_train = encoder.transform(y_train)\n",
    "y_test = encoder.transform(y_test)"
   ]
  },
  {
   "cell_type": "markdown",
   "metadata": {},
   "source": [
    "# Model\n",
    "Sequential\n",
    "\n",
    "## Training"
   ]
  },
  {
   "cell_type": "code",
   "execution_count": 12,
   "metadata": {
    "scrolled": true
   },
   "outputs": [
    {
     "name": "stdout",
     "output_type": "stream",
     "text": [
      "Model: \"sequential\"\n",
      "_________________________________________________________________\n",
      "Layer (type)                 Output Shape              Param #   \n",
      "=================================================================\n",
      "dense (Dense)                (None, 4096)              24584192  \n",
      "_________________________________________________________________\n",
      "dropout (Dropout)            (None, 4096)              0         \n",
      "_________________________________________________________________\n",
      "dense_1 (Dense)              (None, 1024)              4195328   \n",
      "_________________________________________________________________\n",
      "dropout_1 (Dropout)          (None, 1024)              0         \n",
      "_________________________________________________________________\n",
      "dense_2 (Dense)              (None, 28)                28700     \n",
      "_________________________________________________________________\n",
      "activation (Activation)      (None, 28)                0         \n",
      "=================================================================\n",
      "Total params: 28,808,220\n",
      "Trainable params: 28,808,220\n",
      "Non-trainable params: 0\n",
      "_________________________________________________________________\n"
     ]
    }
   ],
   "source": [
    "model = Sequential()\n",
    "\n",
    "model.add(Dense(4096, input_shape=(input_length,), activation = 'relu', kernel_initializer = 'glorot_normal', kernel_constraint=max_norm(2)))\n",
    "model.add(Dropout(0.1))\n",
    "\n",
    "model.add(Dense(1024, kernel_initializer = 'glorot_normal', activation= 'relu'))\n",
    "model.add(Dropout(0.1))\n",
    "\n",
    "model.add(Dense(num_labels))\n",
    "model.add(Activation('softmax'))\n",
    "\n",
    "model.summary()"
   ]
  },
  {
   "cell_type": "markdown",
   "metadata": {},
   "source": [
    "Compile and fit model.  \n",
    "Accuracy is observed on validation set *(20%)*.\n",
    "F1 score will be observed on the test set."
   ]
  },
  {
   "cell_type": "code",
   "execution_count": 13,
   "metadata": {},
   "outputs": [
    {
     "name": "stdout",
     "output_type": "stream",
     "text": [
      "Train on 130318 samples, validate on 14480 samples\n",
      "Epoch 1/40\n",
      "130318/130318 [==============================] - 15s 115us/sample - loss: 2.1914 - acc: 0.4276 - val_loss: 1.7536 - val_acc: 0.5506\n",
      "Epoch 2/40\n",
      "130318/130318 [==============================] - 14s 111us/sample - loss: 1.5206 - acc: 0.6134 - val_loss: 1.3327 - val_acc: 0.6646\n",
      "Epoch 3/40\n",
      "130318/130318 [==============================] - 15s 111us/sample - loss: 1.2125 - acc: 0.6904 - val_loss: 1.1203 - val_acc: 0.7135\n",
      "Epoch 4/40\n",
      "130318/130318 [==============================] - 15s 111us/sample - loss: 1.0466 - acc: 0.7261 - val_loss: 1.0032 - val_acc: 0.7334\n",
      "Epoch 5/40\n",
      "130318/130318 [==============================] - 15s 112us/sample - loss: 0.9470 - acc: 0.7465 - val_loss: 0.9325 - val_acc: 0.7487\n",
      "Epoch 6/40\n",
      "130318/130318 [==============================] - 15s 112us/sample - loss: 0.8800 - acc: 0.7597 - val_loss: 0.8851 - val_acc: 0.7584\n",
      "Epoch 7/40\n",
      "130318/130318 [==============================] - 15s 112us/sample - loss: 0.8295 - acc: 0.7714 - val_loss: 0.8516 - val_acc: 0.7646\n",
      "Epoch 8/40\n",
      "130318/130318 [==============================] - 15s 112us/sample - loss: 0.7918 - acc: 0.7804 - val_loss: 0.8262 - val_acc: 0.7690\n",
      "Epoch 9/40\n",
      "130318/130318 [==============================] - 15s 112us/sample - loss: 0.7585 - acc: 0.7881 - val_loss: 0.8075 - val_acc: 0.7730\n",
      "Epoch 10/40\n",
      "130318/130318 [==============================] - 15s 112us/sample - loss: 0.7307 - acc: 0.7945 - val_loss: 0.7925 - val_acc: 0.7779\n",
      "Epoch 11/40\n",
      "130318/130318 [==============================] - 15s 112us/sample - loss: 0.7067 - acc: 0.8011 - val_loss: 0.7811 - val_acc: 0.7809\n",
      "Epoch 12/40\n",
      "130318/130318 [==============================] - 15s 112us/sample - loss: 0.6846 - acc: 0.8064 - val_loss: 0.7711 - val_acc: 0.7829\n",
      "Epoch 13/40\n",
      "130318/130318 [==============================] - 15s 112us/sample - loss: 0.6667 - acc: 0.8107 - val_loss: 0.7632 - val_acc: 0.7854\n",
      "Epoch 14/40\n",
      "130318/130318 [==============================] - 15s 112us/sample - loss: 0.6483 - acc: 0.8155 - val_loss: 0.7573 - val_acc: 0.7856\n",
      "Epoch 15/40\n",
      "130318/130318 [==============================] - 15s 112us/sample - loss: 0.6316 - acc: 0.8195 - val_loss: 0.7519 - val_acc: 0.7860\n",
      "Epoch 16/40\n",
      "130318/130318 [==============================] - 15s 112us/sample - loss: 0.6163 - acc: 0.8238 - val_loss: 0.7476 - val_acc: 0.7875\n",
      "Epoch 17/40\n",
      "130318/130318 [==============================] - 15s 112us/sample - loss: 0.5999 - acc: 0.8280 - val_loss: 0.7437 - val_acc: 0.7882\n",
      "Epoch 18/40\n",
      "130318/130318 [==============================] - 15s 112us/sample - loss: 0.5860 - acc: 0.8313 - val_loss: 0.7417 - val_acc: 0.7876\n",
      "Epoch 19/40\n",
      "130318/130318 [==============================] - 15s 112us/sample - loss: 0.5734 - acc: 0.8343 - val_loss: 0.7374 - val_acc: 0.7883\n",
      "Epoch 20/40\n",
      "130318/130318 [==============================] - 15s 112us/sample - loss: 0.5598 - acc: 0.8376 - val_loss: 0.7356 - val_acc: 0.7898\n",
      "Epoch 21/40\n",
      "130318/130318 [==============================] - 15s 112us/sample - loss: 0.5466 - acc: 0.8419 - val_loss: 0.7340 - val_acc: 0.7907\n",
      "Epoch 22/40\n",
      "130318/130318 [==============================] - 15s 112us/sample - loss: 0.5330 - acc: 0.8450 - val_loss: 0.7330 - val_acc: 0.7910\n",
      "Epoch 23/40\n",
      "130318/130318 [==============================] - 15s 112us/sample - loss: 0.5208 - acc: 0.8497 - val_loss: 0.7318 - val_acc: 0.7909\n",
      "Epoch 24/40\n",
      "130318/130318 [==============================] - 15s 112us/sample - loss: 0.5094 - acc: 0.8524 - val_loss: 0.7328 - val_acc: 0.7907\n",
      "Epoch 25/40\n",
      "130318/130318 [==============================] - 15s 113us/sample - loss: 0.4974 - acc: 0.8555 - val_loss: 0.7312 - val_acc: 0.7907\n",
      "Epoch 26/40\n",
      "130318/130318 [==============================] - 15s 113us/sample - loss: 0.4859 - acc: 0.8594 - val_loss: 0.7326 - val_acc: 0.7927\n",
      "Epoch 27/40\n",
      "130318/130318 [==============================] - 15s 113us/sample - loss: 0.4741 - acc: 0.8633 - val_loss: 0.7317 - val_acc: 0.7919\n",
      "Epoch 28/40\n",
      "130318/130318 [==============================] - 15s 113us/sample - loss: 0.4643 - acc: 0.8655 - val_loss: 0.7320 - val_acc: 0.7916\n",
      "Epoch 29/40\n",
      "130318/130318 [==============================] - 15s 113us/sample - loss: 0.4522 - acc: 0.8693 - val_loss: 0.7329 - val_acc: 0.7938\n",
      "Epoch 30/40\n",
      "130318/130318 [==============================] - 15s 113us/sample - loss: 0.4407 - acc: 0.8730 - val_loss: 0.7337 - val_acc: 0.7930\n",
      "Epoch 31/40\n",
      "130318/130318 [==============================] - 15s 113us/sample - loss: 0.4323 - acc: 0.8760 - val_loss: 0.7346 - val_acc: 0.7922\n",
      "Epoch 32/40\n",
      "130318/130318 [==============================] - 15s 113us/sample - loss: 0.4200 - acc: 0.8799 - val_loss: 0.7358 - val_acc: 0.7916\n",
      "Epoch 33/40\n",
      "130318/130318 [==============================] - 15s 113us/sample - loss: 0.4100 - acc: 0.8832 - val_loss: 0.7374 - val_acc: 0.7928\n",
      "Epoch 34/40\n",
      "130318/130318 [==============================] - 15s 113us/sample - loss: 0.4004 - acc: 0.8866 - val_loss: 0.7391 - val_acc: 0.7916\n",
      "Epoch 35/40\n",
      "130318/130318 [==============================] - 15s 113us/sample - loss: 0.3898 - acc: 0.8896 - val_loss: 0.7407 - val_acc: 0.7909\n",
      "Epoch 36/40\n",
      "130318/130318 [==============================] - 15s 113us/sample - loss: 0.3813 - acc: 0.8918 - val_loss: 0.7423 - val_acc: 0.7905\n",
      "Epoch 37/40\n",
      "130318/130318 [==============================] - 15s 113us/sample - loss: 0.3712 - acc: 0.8946 - val_loss: 0.7442 - val_acc: 0.7923\n",
      "Epoch 38/40\n",
      "130318/130318 [==============================] - 15s 113us/sample - loss: 0.3610 - acc: 0.8982 - val_loss: 0.7457 - val_acc: 0.7919\n",
      "Epoch 39/40\n",
      "130318/130318 [==============================] - 15s 113us/sample - loss: 0.3514 - acc: 0.9016 - val_loss: 0.7484 - val_acc: 0.7907\n",
      "Epoch 40/40\n",
      "130318/130318 [==============================] - 15s 113us/sample - loss: 0.3424 - acc: 0.9041 - val_loss: 0.7512 - val_acc: 0.7913\n"
     ]
    }
   ],
   "source": [
    "model.compile(\n",
    "    loss='categorical_crossentropy',\n",
    "    optimizer='sgd',\n",
    "    metrics=['acc']\n",
    ")\n",
    "\n",
    "with tf.device('/gpu:0'):\n",
    "    history = model.fit(\n",
    "        sp.lil_matrix(x_train.astype('float16')).A, y_train,\n",
    "        batch_size=batch_size,\n",
    "        epochs=nb_epoch,\n",
    "        verbose=1,\n",
    "        validation_split = .1,\n",
    "        use_multiprocessing = True\n",
    "    )"
   ]
  },
  {
   "cell_type": "markdown",
   "metadata": {},
   "source": [
    "Accuracy score evolution by epochs"
   ]
  },
  {
   "cell_type": "code",
   "execution_count": 14,
   "metadata": {},
   "outputs": [
    {
     "data": {
      "image/png": "[encoded data removed]",
      "text/plain": [
       "<Figure size 432x288 with 1 Axes>"
      ]
     },
     "metadata": {
      "needs_background": "light"
     },
     "output_type": "display_data"
    }
   ],
   "source": [
    "plt.plot(history.history['acc'])\n",
    "plt.plot(history.history['val_acc'])\n",
    "plt.title('model accuracy')\n",
    "plt.ylabel('accuracy')\n",
    "plt.xlabel('epoch')\n",
    "plt.legend(['train', 'test'], loc='upper left')\n",
    "plt.show()"
   ]
  },
  {
   "cell_type": "markdown",
   "metadata": {},
   "source": [
    "Loss evolution by epochs"
   ]
  },
  {
   "cell_type": "code",
   "execution_count": 15,
   "metadata": {},
   "outputs": [
    {
     "data": {
      "image/png": "[encoded data removed]",
      "text/plain": [
       "<Figure size 432x288 with 1 Axes>"
      ]
     },
     "metadata": {
      "needs_background": "light"
     },
     "output_type": "display_data"
    }
   ],
   "source": [
    "plt.plot(history.history['loss'])\n",
    "plt.plot(history.history['val_loss'])\n",
    "plt.title('model loss')\n",
    "plt.ylabel('loss')\n",
    "plt.xlabel('epoch')\n",
    "plt.legend(['train', 'test'], loc='upper left')\n",
    "plt.show()"
   ]
  },
  {
   "cell_type": "markdown",
   "metadata": {},
   "source": [
    "## Evaluating"
   ]
  },
  {
   "cell_type": "code",
   "execution_count": 16,
   "metadata": {},
   "outputs": [
    {
     "name": "stdout",
     "output_type": "stream",
     "text": [
      "72399/72399 [==============================] - 4s 60us/sample - loss: 0.7627 - acc: 0.7868\n",
      "Categorical crossentropy: 0.7626880357854249\n",
      "Categorical accuracy: 0.7868479\n"
     ]
    }
   ],
   "source": [
    "score = model.evaluate(sp.lil_matrix(x_test).toarray(), y_test,\n",
    "                       batch_size=batch_size, verbose=1)\n",
    "\n",
    "print('Categorical crossentropy:', score[0])\n",
    "print('Categorical accuracy:', score[1])"
   ]
  },
  {
   "cell_type": "code",
   "execution_count": 17,
   "metadata": {},
   "outputs": [
    {
     "name": "stdout",
     "output_type": "stream",
     "text": [
      "                   precision    recall  f1-score   diff_di   support\n",
      "\n",
      "           pastor      0.670     0.622     0.645     0.148      1354\n",
      "            model      0.848     0.869     0.858     0.229      6297\n",
      "               dj      0.734     0.702     0.718     0.104      1465\n",
      "        physician      0.781     0.718     0.748     0.041      2175\n",
      "         comedian      0.856     0.558     0.675     2.166       459\n",
      "software_engineer      0.765     0.717     0.740     0.055      1034\n",
      "            nurse      0.645     0.732     0.686     2.692      4144\n",
      "             poet      0.797     0.765     0.781     0.188      1533\n",
      "          dentist      0.673     0.535     0.596     0.912       269\n",
      "     chiropractor      0.809     0.657     0.725     0.251       245\n",
      "        filmmaker      0.773     0.661     0.713     0.287       319\n",
      "        professor      0.864     0.667     0.752     0.049       285\n",
      "     yoga_teacher      0.799     0.806     0.803     0.856      1135\n",
      "     photographer      0.790     0.694     0.739     5.552       530\n",
      "           rapper      0.673     0.605     0.637     0.034      1986\n",
      "     psychologist      0.529     0.582     0.554     0.387      3065\n",
      "        paralegal      0.816     0.864     0.839     0.081      4902\n",
      "        architect      0.621     0.515     0.563     0.014       487\n",
      "         composer      0.717     0.606     0.657     1.647       297\n",
      "         attorney      0.826     0.789     0.807     0.281       758\n",
      "        dietitian      0.806     0.739     0.771     0.020      1377\n",
      "          teacher      0.841     0.824     0.832     0.009      4222\n",
      " personal_trainer      0.719     0.690     0.704     0.294      3815\n",
      "          painter      0.941     0.912     0.926     0.088      1826\n",
      "       journalist      0.843     0.872     0.858     0.879     23306\n",
      "interior_designer      0.879     0.513     0.648     0.010       312\n",
      "          surgeon      0.739     0.717     0.728     0.052      1337\n",
      "       accountant      0.747     0.689     0.717     0.394      3465\n",
      "\n",
      "         Accuracy                          0.787                    \n",
      "        macro avg      0.768     0.701     0.729     0.633     72399\n",
      "\n"
     ]
    }
   ],
   "source": [
    "pred = model.predict(sp.lil_matrix(x_test).toarray())\n",
    "y_pred = np.argmax(pred, axis=1)\n",
    "y_true = np.argmax(y_test, axis = 1)\n",
    "\n",
    "report = Report(\n",
    "    array_result = np.array([\n",
    "        y_true.tolist(),\n",
    "        y_pred.tolist(),\n",
    "        X_test.gender_name.to_list()\n",
    "    ]), categories = categories\n",
    ")\n",
    "\n",
    "print(report)"
   ]
  }
 ],
 "metadata": {
  "kernelspec": {
   "display_name": "Python 3.7.9 (jobclf)",
   "language": "python",
   "name": "jobclf"
  },
  "language_info": {
   "codemirror_mode": {
    "name": "ipython",
    "version": 3
   },
   "file_extension": ".py",
   "mimetype": "text/x-python",
   "name": "python",
   "nbconvert_exporter": "python",
   "pygments_lexer": "ipython3",
   "version": "3.7.9"
  },
  "latex_envs": {
   "LaTeX_envs_menu_present": true,
   "autoclose": false,
   "autocomplete": true,
   "bibliofile": "biblio.bib",
   "cite_by": "apalike",
   "current_citInitial": 1,
   "eqLabelWithNumbers": true,
   "eqNumInitial": 1,
   "hotkeys": {
    "equation": "Ctrl-E",
    "itemize": "Ctrl-I"
   },
   "labels_anchors": false,
   "latex_user_defs": false,
   "report_style_numbering": false,
   "user_envs_cfg": false
  }
 },
 "nbformat": 4,
 "nbformat_minor": 4
}
